{
 "cells": [
  {
   "cell_type": "code",
   "execution_count": 1,
   "metadata": {
    "collapsed": false
   },
   "outputs": [],
   "source": [
    "import os\n",
    "\n",
    "import xray\n",
    "\n",
    "from sfit4py import io"
   ]
  },
  {
   "cell_type": "code",
   "execution_count": 2,
   "metadata": {
    "collapsed": true
   },
   "outputs": [],
   "source": [
    "pjoin = os.path.join"
   ]
  },
  {
   "cell_type": "code",
   "execution_count": 3,
   "metadata": {
    "collapsed": true
   },
   "outputs": [],
   "source": [
    "rundir = \"/home/bovy/sfit4/sfit4_v0.9.4.4/test_cases_NDACC/x.co/\""
   ]
  },
  {
   "cell_type": "code",
   "execution_count": 4,
   "metadata": {
    "collapsed": false
   },
   "outputs": [
    {
     "data": {
      "text/plain": [
       "<xray.Dataset>\n",
       "Dimensions:            (levels: 43)\n",
       "Coordinates:\n",
       "  * levels             (levels) int64 0 1 2 3 4 5 6 7 8 9 10 11 12 13 14 15 ...\n",
       "Data variables:\n",
       "    averaging_kernels  (levels, levels) float64 0.000203 0.0006986 0.0007535 ...\n",
       "Attributes:\n",
       "    sfit4_version: 0.9.4.3\n",
       "    sfit4_runtime: 2014-06-03 08:05:55"
      ]
     },
     "execution_count": 4,
     "metadata": {},
     "output_type": "execute_result"
    }
   ],
   "source": [
    "xray.Dataset(**io.read_matrix(pjoin(rundir, \"ak.out\"),\n",
    "                              var_name=\"averaging_kernels\",\n",
    "                              dims=('levels', 'levels')))"
   ]
  },
  {
   "cell_type": "code",
   "execution_count": 5,
   "metadata": {
    "collapsed": false
   },
   "outputs": [
    {
     "data": {
      "text/plain": [
       "<xray.Dataset>\n",
       "Dimensions:    (diag: 928)\n",
       "Coordinates:\n",
       "  * diag       (diag) int64 0 1 2 3 4 5 6 7 8 9 10 11 12 13 14 15 16 17 18 ...\n",
       "Data variables:\n",
       "    seinv.out  (diag) float64 3.404e+04 3.404e+04 3.404e+04 3.404e+04 ...\n",
       "Attributes:\n",
       "    sfit4_version: 0.9.4.3\n",
       "    sfit4_runtime: 2014-06-03 08:05:55"
      ]
     },
     "execution_count": 5,
     "metadata": {},
     "output_type": "execute_result"
    }
   ],
   "source": [
    "xray.Dataset(**io.read_matrix(pjoin(rundir, \"seinv.out\"), dims=('diag',)))"
   ]
  },
  {
   "cell_type": "code",
   "execution_count": 6,
   "metadata": {
    "collapsed": false,
    "scrolled": false
   },
   "outputs": [
    {
     "data": {
      "text/plain": [
       "<xray.Dataset>\n",
       "Dimensions:              (levels: 43)\n",
       "Coordinates:\n",
       "  * levels               (levels) int64 0 1 2 3 4 5 6 7 8 9 10 11 12 13 14 ...\n",
       "Data variables:\n",
       "    apriori_CH3CHO       (levels) float64 0.0 0.0 0.0 0.0 0.0 0.0 0.0 0.0 ...\n",
       "    apriori_CO2          (levels) float64 0.0002541 0.0003241 0.0003464 ...\n",
       "    apriori_CCL2F2       (levels) float64 1e-14 1e-14 1.023e-14 7.694e-14 ...\n",
       "    apriori_CH3BR        (levels) float64 5.69e-40 1.254e-38 3.096e-37 ...\n",
       "    apriori_N2O5         (levels) float64 8.752e-20 6.736e-18 8.868e-17 ...\n",
       "    apriori_CH3CCL3      (levels) float64 1.062e-33 4.923e-32 6.86e-31 ...\n",
       "    apriori_HOCL         (levels) float64 2.446e-20 5.717e-14 1.721e-12 ...\n",
       "    apriori_HNO3         (levels) float64 2.771e-14 1.021e-13 3.314e-13 ...\n",
       "    apriori_CH4          (levels) float64 4.198e-09 3.814e-08 9.122e-08 ...\n",
       "    apriori_F141B        (levels) float64 1.493e-12 1.527e-12 1.53e-12 ...\n",
       "    apriori_NF3          (levels) float64 0.0 0.0 0.0 0.0 0.0 0.0 0.0 0.0 ...\n",
       "    apriori_CCL4         (levels) float64 2.286e-36 1.001e-34 1.165e-33 ...\n",
       "    apriori_CH3OH        (levels) float64 0.0 0.0 0.0 0.0 0.0 0.0 0.0 0.0 ...\n",
       "    apriori_C2H2         (levels) float64 1e-14 1e-14 1e-14 1e-14 1e-14 ...\n",
       "    apriori_OCLO         (levels) float64 1e-12 1e-12 1e-12 1e-12 1e-12 ...\n",
       "    apriori_C4H8         (levels) float64 0.0 0.0 0.0 0.0 0.0 0.0 0.0 0.0 ...\n",
       "    apriori_C3H6         (levels) float64 0.0 0.0 0.0 0.0 0.0 0.0 0.0 0.0 ...\n",
       "    apriori_HO2          (levels) float64 1.97e-12 7.284e-10 1.672e-09 ...\n",
       "    apriori_CHF2CL       (levels) float64 0.0 0.0 0.0 0.0 0.0 0.0 0.0 ...\n",
       "    apriori_OCS          (levels) float64 1e-14 1e-14 1e-14 1e-14 1e-14 ...\n",
       "    apriori_CO           (levels) float64 1.882e-05 1.063e-05 6.162e-06 ...\n",
       "    apriori_CHCL2F       (levels) float64 0.0 0.0 0.0 0.0 0.0 0.0 0.0 0.0 ...\n",
       "    apriori_F142B        (levels) float64 1.433e-12 1.467e-12 1.47e-12 ...\n",
       "    apriori_CLONO2       (levels) float64 2.726e-22 1.975e-17 7.888e-16 ...\n",
       "    apriori_NO2          (levels) float64 9.681e-13 2.031e-11 5.984e-10 ...\n",
       "    apriori_COF2         (levels) float64 1e-10 1e-10 1e-10 1.002e-10 ...\n",
       "    apriori_CLO          (levels) float64 6.763e-14 1.027e-12 1.865e-11 ...\n",
       "    apriori_HCL          (levels) float64 7.019e-10 2.034e-09 2.783e-09 ...\n",
       "    apriori_N2           (levels) float64 0.78 0.781 0.7811 0.7812 0.7812 ...\n",
       "    apriori_HO2NO2       (levels) float64 1.796e-18 2.825e-16 2.943e-15 ...\n",
       "    apriori_CH3CNPL      (levels) float64 0.0 0.0 0.0 0.0 0.0 0.0 0.0 0.0 ...\n",
       "    apriori_CH3COOH      (levels) float64 0.0 0.0 0.0 0.0 0.0 0.0 0.0 0.0 ...\n",
       "    apriori_O2           (levels) float64 0.1832 0.2054 0.2097 0.211 0.212 ...\n",
       "    apriori_HBR          (levels) float64 7.153e-17 4.728e-14 1.976e-13 ...\n",
       "    apriori_HONO         (levels) float64 8.957e-15 1e-14 1.333e-14 ...\n",
       "    apriori_CH3F         (levels) float64 5e-14 5e-14 5.001e-14 5.001e-14 ...\n",
       "    apriori_CF4          (levels) float64 3e-11 3e-11 3e-11 3.001e-11 ...\n",
       "    apriori_SO2          (levels) float64 1.434e-12 8.073e-12 2.6e-11 ...\n",
       "    apriori_H2O          (levels) float64 2.267e-07 1.531e-06 3.091e-06 ...\n",
       "    apriori_NO           (levels) float64 3.832e-06 2.053e-07 3.511e-08 ...\n",
       "    apriori_MACR         (levels) float64 0.0 0.0 0.0 0.0 0.0 0.0 0.0 0.0 ...\n",
       "    apriori_O3           (levels) float64 1.552e-06 5.618e-07 3.282e-07 ...\n",
       "    apriori_CCL3F        (levels) float64 0.0 0.0 0.0 0.0 0.0 0.0 0.0 0.0 ...\n",
       "    apriori_PRESSURE     (levels) float64 0.0008599 0.005104 0.0153 0.0442 ...\n",
       "    apriori_OH           (levels) float64 1.225e-10 2.477e-09 4.439e-09 ...\n",
       "    apriori_C3H8         (levels) float64 3e-15 3e-15 3.001e-15 3.001e-15 ...\n",
       "    apriori_H2S          (levels) float64 0.0 0.0 0.0 0.0 0.0 0.0 0.0 0.0 ...\n",
       "    apriori_HCN          (levels) float64 1.5e-10 1.5e-10 1.5e-10 1.5e-10 ...\n",
       "    apriori_C2H6         (levels) float64 1e-14 1e-14 1e-14 1e-14 1e-14 ...\n",
       "    apriori_AIRMASS      (levels) float64 2.55e+19 1.508e+20 2.856e+20 ...\n",
       "    apriori_COCL2        (levels) float64 1e-16 1e-16 1e-16 1e-16 1e-16 ...\n",
       "    apriori_F134A        (levels) float64 1.289e-12 1.317e-12 1.32e-12 ...\n",
       "    apriori_CH3CN        (levels) float64 0.0 0.0 0.0 0.0 0.0 0.0 0.0 0.0 ...\n",
       "    apriori_H2CO         (levels) float64 1.775e-14 9.451e-14 3.067e-13 ...\n",
       "    apriori_Z            (levels) float64 90.0 80.0 74.4 67.4 61.4 56.4 52.4 ...\n",
       "    apriori_HCOOH        (levels) float64 0.0 0.0 0.0 0.0 0.0 0.0 0.0 0.0 ...\n",
       "    apriori_ZBAR         (levels) float64 95.0 85.0 77.2 70.9 64.4 58.9 54.4 ...\n",
       "    apriori_HF           (levels) float64 7.34e-10 7.34e-10 7.341e-10 ...\n",
       "    apriori_CH3I         (levels) float64 0.0 0.0 0.0 0.0 0.0 0.0 0.0 0.0 ...\n",
       "    apriori_O2CIA        (levels) float64 0.0 0.0 0.0 0.0 0.0 0.0 0.0 0.0 ...\n",
       "    apriori_C2H6PL       (levels) float64 0.0 0.0 0.0 0.0 0.0 0.0 0.0 0.0 ...\n",
       "    apriori_HI           (levels) float64 3e-12 3e-12 3e-12 3.001e-12 ...\n",
       "    apriori_CFC113       (levels) float64 1.114e-11 1.139e-11 1.14e-11 ...\n",
       "    apriori_CH3CL        (levels) float64 8.687e-15 2.465e-14 3.882e-14 ...\n",
       "    apriori_H2O2         (levels) float64 8.802e-14 8.098e-11 2.05e-10 ...\n",
       "    apriori_C5H8         (levels) float64 0.0 0.0 0.0 0.0 0.0 0.0 0.0 0.0 ...\n",
       "    apriori_NH3          (levels) float64 1e-14 1e-14 1e-14 1e-14 1e-14 ...\n",
       "    apriori_PAN          (levels) float64 0.0 0.0 0.0 0.0 0.0 0.0 0.0 0.0 ...\n",
       "    apriori_MVK          (levels) float64 0.0 0.0 0.0 0.0 0.0 0.0 0.0 0.0 ...\n",
       "    apriori_C2H4         (levels) float64 1e-15 1e-15 1e-15 1e-15 1e-15 ...\n",
       "    apriori_TEMPERATURE  (levels) float64 197.9 195.3 204.3 219.1 233.7 ...\n",
       "    apriori_N2O          (levels) float64 4.714e-11 9.905e-11 1.385e-10 ...\n",
       "    apriori_COCLF        (levels) float64 0.0 0.0 1.838e-18 8.642e-17 1e-16 ...\n",
       "    apriori_SF6          (levels) float64 0.0 0.0 0.0 0.0 0.0 0.0 1.855e-13 ...\n",
       "Attributes:\n",
       "    sfit4_version: 0.9.4.3\n",
       "    source: /home/bovy/sfit4/sfit4_v0.9.4.4/test_cases_NDACC/x.co/aprfs.table\n",
       "    sfit4_runtime: 2014-06-03 08:05:55\n",
       "    description: apriori z, p, t, airmass & profiles"
      ]
     },
     "execution_count": 6,
     "metadata": {},
     "output_type": "execute_result"
    }
   ],
   "source": [
    "xray.Dataset(**io.read_profiles(pjoin(rundir, \"aprfs.table\"),\n",
    "                                var_name_prefix=\"apriori_\"))"
   ]
  },
  {
   "cell_type": "code",
   "execution_count": 7,
   "metadata": {
    "collapsed": false,
    "scrolled": false
   },
   "outputs": [
    {
     "data": {
      "text/plain": [
       "<xray.Dataset>\n",
       "Dimensions:                (levels: 43)\n",
       "Coordinates:\n",
       "  * levels                 (levels) int64 0 1 2 3 4 5 6 7 8 9 10 11 12 13 14 ...\n",
       "Data variables:\n",
       "    retrieved_H2O          (levels) float64 3.188e-09 2.152e-08 4.346e-08 ...\n",
       "    retrieved_HO2          (levels) float64 1.97e-12 7.284e-10 1.672e-09 ...\n",
       "    retrieved_CH3I         (levels) float64 0.0 0.0 0.0 0.0 0.0 0.0 0.0 0.0 ...\n",
       "    retrieved_CH4          (levels) float64 4.198e-09 3.814e-08 9.122e-08 ...\n",
       "    retrieved_C2H4         (levels) float64 1e-15 1e-15 1e-15 1e-15 1e-15 ...\n",
       "    retrieved_CH3CL        (levels) float64 8.687e-15 2.465e-14 3.882e-14 ...\n",
       "    retrieved_AIRMASS      (levels) float64 2.55e+19 1.508e+20 2.856e+20 ...\n",
       "    retrieved_C2H6         (levels) float64 1e-14 1e-14 1e-14 1e-14 1e-14 ...\n",
       "    retrieved_TEMPERATURE  (levels) float64 197.9 195.3 204.3 219.1 233.7 ...\n",
       "    retrieved_H2S          (levels) float64 0.0 0.0 0.0 0.0 0.0 0.0 0.0 0.0 ...\n",
       "    retrieved_HOCL         (levels) float64 2.446e-20 5.717e-14 1.721e-12 ...\n",
       "    retrieved_CO2          (levels) float64 0.0002816 0.0003592 0.0003839 ...\n",
       "    retrieved_C3H6         (levels) float64 0.0 0.0 0.0 0.0 0.0 0.0 0.0 0.0 ...\n",
       "    retrieved_CLONO2       (levels) float64 2.726e-22 1.975e-17 7.888e-16 ...\n",
       "    retrieved_OH           (levels) float64 1.225e-10 2.477e-09 4.439e-09 ...\n",
       "    retrieved_CH3CHO       (levels) float64 0.0 0.0 0.0 0.0 0.0 0.0 0.0 0.0 ...\n",
       "    retrieved_CLO          (levels) float64 6.763e-14 1.027e-12 1.865e-11 ...\n",
       "    retrieved_CH3COOH      (levels) float64 0.0 0.0 0.0 0.0 0.0 0.0 0.0 0.0 ...\n",
       "    retrieved_HCL          (levels) float64 7.019e-10 2.034e-09 2.783e-09 ...\n",
       "    retrieved_ZBAR         (levels) float64 95.0 85.0 77.2 70.9 64.4 58.9 ...\n",
       "    retrieved_O3           (levels) float64 1.552e-06 5.618e-07 3.282e-07 ...\n",
       "    retrieved_HCN          (levels) float64 1.5e-10 1.5e-10 1.5e-10 1.5e-10 ...\n",
       "    retrieved_CH3CCL3      (levels) float64 1.062e-33 4.923e-32 6.86e-31 ...\n",
       "    retrieved_CH3OH        (levels) float64 0.0 0.0 0.0 0.0 0.0 0.0 0.0 0.0 ...\n",
       "    retrieved_COCLF        (levels) float64 0.0 0.0 1.838e-18 8.642e-17 ...\n",
       "    retrieved_OCLO         (levels) float64 1e-12 1e-12 1e-12 1e-12 1e-12 ...\n",
       "    retrieved_NO2          (levels) float64 9.681e-13 2.031e-11 5.984e-10 ...\n",
       "    retrieved_N2           (levels) float64 0.78 0.781 0.7811 0.7812 0.7812 ...\n",
       "    retrieved_HF           (levels) float64 7.34e-10 7.34e-10 7.341e-10 ...\n",
       "    retrieved_HO2NO2       (levels) float64 1.796e-18 2.825e-16 2.943e-15 ...\n",
       "    retrieved_CHF2CL       (levels) float64 0.0 0.0 0.0 0.0 0.0 0.0 0.0 ...\n",
       "    retrieved_CCL2F2       (levels) float64 1e-14 1e-14 1.023e-14 7.694e-14 ...\n",
       "    retrieved_O2           (levels) float64 0.1832 0.2054 0.2097 0.211 0.212 ...\n",
       "    retrieved_HBR          (levels) float64 7.153e-17 4.728e-14 1.976e-13 ...\n",
       "    retrieved_SF6          (levels) float64 0.0 0.0 0.0 0.0 0.0 0.0 ...\n",
       "    retrieved_HONO         (levels) float64 8.957e-15 1e-14 1.333e-14 ...\n",
       "    retrieved_CH3CN        (levels) float64 0.0 0.0 0.0 0.0 0.0 0.0 0.0 0.0 ...\n",
       "    retrieved_C4H8         (levels) float64 0.0 0.0 0.0 0.0 0.0 0.0 0.0 0.0 ...\n",
       "    retrieved_CO           (levels) float64 1.873e-05 1.049e-05 6.053e-06 ...\n",
       "    retrieved_F141B        (levels) float64 1.493e-12 1.527e-12 1.53e-12 ...\n",
       "    retrieved_OCS          (levels) float64 6.997e-15 6.997e-15 6.998e-15 ...\n",
       "    retrieved_H2O2         (levels) float64 8.802e-14 8.098e-11 2.05e-10 ...\n",
       "    retrieved_HI           (levels) float64 3e-12 3e-12 3e-12 3.001e-12 ...\n",
       "    retrieved_NF3          (levels) float64 0.0 0.0 0.0 0.0 0.0 0.0 0.0 0.0 ...\n",
       "    retrieved_CCL4         (levels) float64 2.286e-36 1.001e-34 1.165e-33 ...\n",
       "    retrieved_C2H6PL       (levels) float64 0.0 0.0 0.0 0.0 0.0 0.0 0.0 0.0 ...\n",
       "    retrieved_MACR         (levels) float64 0.0 0.0 0.0 0.0 0.0 0.0 0.0 0.0 ...\n",
       "    retrieved_CCL3F        (levels) float64 0.0 0.0 0.0 0.0 0.0 0.0 0.0 0.0 ...\n",
       "    retrieved_N2O5         (levels) float64 8.752e-20 6.736e-18 8.868e-17 ...\n",
       "    retrieved_N2O          (levels) float64 4.714e-11 9.905e-11 1.385e-10 ...\n",
       "    retrieved_CH3F         (levels) float64 5e-14 5e-14 5.001e-14 5.001e-14 ...\n",
       "    retrieved_SO2          (levels) float64 1.434e-12 8.073e-12 2.6e-11 ...\n",
       "    retrieved_Z            (levels) float64 90.0 80.0 74.4 67.4 61.4 56.4 ...\n",
       "    retrieved_O2CIA        (levels) float64 0.0 0.0 0.0 0.0 0.0 0.0 0.0 0.0 ...\n",
       "    retrieved_COF2         (levels) float64 1e-10 1e-10 1e-10 1.002e-10 ...\n",
       "    retrieved_C5H8         (levels) float64 0.0 0.0 0.0 0.0 0.0 0.0 0.0 0.0 ...\n",
       "    retrieved_CH3BR        (levels) float64 5.69e-40 1.254e-38 3.096e-37 ...\n",
       "    retrieved_H2CO         (levels) float64 1.775e-14 9.451e-14 3.067e-13 ...\n",
       "    retrieved_CF4          (levels) float64 3e-11 3e-11 3e-11 3.001e-11 ...\n",
       "    retrieved_F134A        (levels) float64 1.289e-12 1.317e-12 1.32e-12 ...\n",
       "    retrieved_CFC113       (levels) float64 1.114e-11 1.139e-11 1.14e-11 ...\n",
       "    retrieved_C3H8         (levels) float64 3e-15 3e-15 3.001e-15 3.001e-15 ...\n",
       "    retrieved_HNO3         (levels) float64 2.771e-14 1.021e-13 3.314e-13 ...\n",
       "    retrieved_C2H2         (levels) float64 1e-14 1e-14 1e-14 1e-14 1e-14 ...\n",
       "    retrieved_CHCL2F       (levels) float64 0.0 0.0 0.0 0.0 0.0 0.0 0.0 0.0 ...\n",
       "    retrieved_CH3CNPL      (levels) float64 0.0 0.0 0.0 0.0 0.0 0.0 0.0 0.0 ...\n",
       "    retrieved_COCL2        (levels) float64 1e-16 1e-16 1e-16 1e-16 1e-16 ...\n",
       "    retrieved_PRESSURE     (levels) float64 0.0008599 0.005104 0.0153 0.0442 ...\n",
       "    retrieved_PAN          (levels) float64 0.0 0.0 0.0 0.0 0.0 0.0 0.0 0.0 ...\n",
       "    retrieved_F142B        (levels) float64 1.433e-12 1.467e-12 1.47e-12 ...\n",
       "    retrieved_NH3          (levels) float64 1e-14 1e-14 1e-14 1e-14 1e-14 ...\n",
       "    retrieved_NO           (levels) float64 3.832e-06 2.053e-07 3.511e-08 ...\n",
       "    retrieved_MVK          (levels) float64 0.0 0.0 0.0 0.0 0.0 0.0 0.0 0.0 ...\n",
       "    retrieved_HCOOH        (levels) float64 0.0 0.0 0.0 0.0 0.0 0.0 0.0 0.0 ...\n",
       "Attributes:\n",
       "    sfit4_version: 0.9.4.3\n",
       "    source: /home/bovy/sfit4/sfit4_v0.9.4.4/test_cases_NDACC/x.co/rprfs.table\n",
       "    sfit4_runtime: 2014-06-03 08:05:55\n",
       "    description: retrieved z, p, t, airmass & profiles"
      ]
     },
     "execution_count": 7,
     "metadata": {},
     "output_type": "execute_result"
    }
   ],
   "source": [
    "xray.Dataset(**io.read_profiles(pjoin(rundir, \"rprfs.table\"),\n",
    "                                var_name_prefix=\"retrieved_\"))"
   ]
  },
  {
   "cell_type": "code",
   "execution_count": 8,
   "metadata": {
    "collapsed": false
   },
   "outputs": [
    {
     "data": {
      "text/plain": [
       "<xray.Dataset>\n",
       "Dimensions:      (statevector: 147, wavenumber: 928)\n",
       "Coordinates:\n",
       "  * statevector  (statevector) <U13 'BckGrdSlp_1' 'BckGrdSlp_2' ...\n",
       "  * wavenumber   (wavenumber) int64 0 1 2 3 4 5 6 7 8 9 10 11 12 13 14 15 16 ...\n",
       "Data variables:\n",
       "    gain_matrix  (wavenumber, statevector) float64 -1.108 0.2097 0.001718 ...\n",
       "Attributes:\n",
       "    sfit4_version: 0.9.4.3\n",
       "    sfit4_runtime: 2014-06-03 08:05:55"
      ]
     },
     "execution_count": 8,
     "metadata": {},
     "output_type": "execute_result"
    }
   ],
   "source": [
    "xray.Dataset(**io.read_table(pjoin(rundir, \"g.out\"),\n",
    "                             var_name=\"gain_matrix\",\n",
    "                             dims=('wavenumber', 'statevector')))"
   ]
  },
  {
   "cell_type": "code",
   "execution_count": 9,
   "metadata": {
    "collapsed": false
   },
   "outputs": [
    {
     "data": {
      "text/plain": [
       "<xray.Dataset>\n",
       "Dimensions:               (levels: 43, param: 15)\n",
       "Coordinates:\n",
       "    altitude              (levels) float64 95.0 85.0 77.2 70.9 64.4 58.9 ...\n",
       "  * param                 (param) <U13 'BckGrdSlp_1' 'BckGrdSlp_2' ...\n",
       "  * levels                (levels) int64 0 1 2 3 4 5 6 7 8 9 10 11 12 13 14 ...\n",
       "Data variables:\n",
       "    retrieved_OCS         (levels) float64 6.997e-15 6.997e-15 6.998e-15 ...\n",
       "    apriori_CO2           (levels) float64 0.0002541 0.0003241 0.0003464 ...\n",
       "    apriori_CO            (levels) float64 1.882e-05 1.063e-05 6.162e-06 ...\n",
       "    retrieved_H2O         (levels) float64 3.188e-09 2.152e-08 4.346e-08 ...\n",
       "    apriori_H2O           (levels) float64 2.267e-07 1.531e-06 3.091e-06 ...\n",
       "    apriori_temperature   (levels) float64 197.9 195.3 204.3 219.1 233.7 ...\n",
       "    apriori_parameters    (param) float64 0.0 0.0 0.0 0.0 0.0 0.0 0.0 0.0 ...\n",
       "    retrieved_parameters  (param) float64 0.2817 0.006768 -0.01748 4.885e-06 ...\n",
       "    retrieved_CO2         (levels) float64 0.0002816 0.0003592 0.0003839 ...\n",
       "    apriori_OCS           (levels) float64 1e-14 1e-14 1e-14 1e-14 1e-14 ...\n",
       "    retrieved_O3          (levels) float64 1.552e-06 5.618e-07 3.282e-07 ...\n",
       "    apriori_O3            (levels) float64 1.552e-06 5.618e-07 3.282e-07 ...\n",
       "    retrieved_N2O         (levels) float64 4.714e-11 9.905e-11 1.385e-10 ...\n",
       "    apriori_N2O           (levels) float64 4.714e-11 9.905e-11 1.385e-10 ...\n",
       "    retrieved_CO          (levels) float64 1.873e-05 1.049e-05 6.053e-06 ...\n",
       "    apriori_pressure      (levels) float64 0.0008599 0.005104 0.0153 0.0442 ...\n",
       "Attributes:\n",
       "    sfit4_version: 0.9.4.3\n",
       "    is_temp: False\n",
       "    has_converged: True\n",
       "    has_division_warnings: False\n",
       "    n_iteration_max: 17\n",
       "    n_iteration: 9\n",
       "    source: /home/bovy/sfit4/sfit4_v0.9.4.4/test_cases_NDACC/x.co/statevec\n",
       "    sfit4_runtime: 2014-06-03 08:05:55\n",
       "    description: state vector"
      ]
     },
     "execution_count": 9,
     "metadata": {},
     "output_type": "execute_result"
    }
   ],
   "source": [
    "xray.Dataset(**io.read_state_vector(pjoin(rundir, \"statevec\")))"
   ]
  },
  {
   "cell_type": "code",
   "execution_count": 10,
   "metadata": {
    "collapsed": false
   },
   "outputs": [
    {
     "data": {
      "text/plain": [
       "<xray.Dataset>\n",
       "Dimensions:                 (wavenumber_window_s1b1: 129, wavenumber_window_s1b2: 87, wavenumber_window_s1b3: 712)\n",
       "Coordinates:\n",
       "  * wavenumber_window_s1b3  (wavenumber_window_s1b3) float64 2.158e+03 ...\n",
       "  * wavenumber_window_s1b2  (wavenumber_window_s1b2) float64 2.07e+03 ...\n",
       "  * wavenumber_window_s1b1  (wavenumber_window_s1b1) float64 2.058e+03 ...\n",
       "Data variables:\n",
       "    fitted_window_s1b1      (wavenumber_window_s1b1) float64 0.9106 0.9716 ...\n",
       "    fitted_window_s1b2      (wavenumber_window_s1b2) float64 0.9349 0.928 ...\n",
       "    fitted_window_s1b3      (wavenumber_window_s1b3) float64 1.0 0.9998 ...\n",
       "    observed_window_s1b3    (wavenumber_window_s1b3) float64 0.9985 1.001 ...\n",
       "    observed_window_s1b2    (wavenumber_window_s1b2) float64 0.9412 0.9333 ...\n",
       "    observed_window_s1b1    (wavenumber_window_s1b1) float64 0.9108 0.9728 ...\n",
       "Attributes:\n",
       "    sfit4_version: 0.9.4.3\n",
       "    source: /home/bovy/sfit4/sfit4_v0.9.4.4/test_cases_NDACC/x.co/pbpfile\n",
       "    sfit4_runtime: 2014-06-03 08:05:55\n",
       "    description: observed, fitted and difference spectra"
      ]
     },
     "execution_count": 10,
     "metadata": {},
     "output_type": "execute_result"
    }
   ],
   "source": [
    "xray.Dataset(**io.read_spectra(pjoin(rundir, \"pbpfile\")))"
   ]
  },
  {
   "cell_type": "code",
   "execution_count": 11,
   "metadata": {
    "collapsed": true
   },
   "outputs": [],
   "source": [
    "rundir = \"/home/bovy/sfit4/sfit4_v0.9.4.4/test_cases_NDACC/x.hf/\""
   ]
  },
  {
   "cell_type": "code",
   "execution_count": 12,
   "metadata": {
    "collapsed": false
   },
   "outputs": [
    {
     "data": {
      "text/plain": [
       "<xray.Dataset>\n",
       "Dimensions:                 (iterations: 8, statevector: 48)\n",
       "Coordinates:\n",
       "  * iterations              (iterations) int32 1 2 3 4 5 6 7 -1\n",
       "    statevector_index       (statevector) int64 1 2 3 4 5 6 7 8 9 10 11 12 ...\n",
       "  * statevector             (statevector) <U11 'BckGrdSlp_1' 'BckGrdCur_1' ...\n",
       "Data variables:\n",
       "    statevector_iterations  (iterations, statevector) float64 0.0 0.0 0.0 ...\n",
       "Attributes:\n",
       "    sfit4_version: 0.9.4.3\n",
       "    source: /home/bovy/sfit4/sfit4_v0.9.4.4/test_cases_NDACC/x.hf/parm.output\n",
       "    sfit4_runtime: 2014-06-03 08:08:11"
      ]
     },
     "execution_count": 12,
     "metadata": {},
     "output_type": "execute_result"
    }
   ],
   "source": [
    "xray.Dataset(**io.read_param_iterations(pjoin(rundir, \"parm.output\")))"
   ]
  },
  {
   "cell_type": "code",
   "execution_count": 13,
   "metadata": {
    "collapsed": false
   },
   "outputs": [],
   "source": [
    "tes = xray.Dataset(**io.read_single_spectrum(pjoin(rundir, \"spc.CH4.01.01.final\")))"
   ]
  },
  {
   "cell_type": "code",
   "execution_count": 14,
   "metadata": {
    "collapsed": false
   },
   "outputs": [
    {
     "data": {
      "text/plain": [
       "<xray.DataArray 'spc.CH4.01.01.final' (wavenumber_window_s1b1: 299)>\n",
       "array([ 0.9973436 ,  0.99736062,  0.99737614,  0.9973872 ,  0.99739508,\n",
       "        0.99740171,  0.99740435,  0.99740257,  0.99739983,  0.99739598,\n",
       "        0.99738922,  0.99738115,  0.99737212,  0.9973605 ,  0.99734795,\n",
       "        0.99733582,  0.99732143,  0.99730408,  0.99728611,  0.99726673,\n",
       "        0.99724389,  0.99721813,  0.99718898,  0.99715513,  0.99711857,\n",
       "        0.99708074,  0.99703931,  0.99699351,  0.99694509,  0.99689343,\n",
       "        0.99683749,  0.9967784 ,  0.99671587,  0.99664858,  0.99657776,\n",
       "        0.99650356,  0.99642313,  0.99633628,  0.99624545,  0.99614978,\n",
       "        0.99604724,  0.99593922,  0.99582675,  0.99570802,  0.9955821 ,\n",
       "        0.99544938,  0.99530902,  0.99516031,  0.99500362,  0.9948385 ,\n",
       "        0.99466412,  0.99448024,  0.99428537,  0.99407767,  0.99385896,\n",
       "        0.99363453,  0.99340934,  0.99318705,  0.99297055,  0.99276072,\n",
       "        0.99255458,  0.99234525,  0.99212435,  0.99188559,  0.99162553,\n",
       "        0.99134191,  0.99103357,  0.99070067,  0.9903423 ,  0.98995541,\n",
       "        0.98953727,  0.9890858 ,  0.98859659,  0.98806246,  0.98747548,\n",
       "        0.98682674,  0.98610677,  0.98531143,  0.98445215,  0.98356639,\n",
       "        0.98272577,  0.98203398,  0.98160518,  0.98152738,  0.98182997,\n",
       "        0.98247254,  0.98335858,  0.9843676 ,  0.98539113,  0.98635503,\n",
       "        0.98722237,  0.98798516,  0.98865275,  0.98923982,  0.98975949,\n",
       "        0.9902231 ,  0.9906403 ,  0.99101733,  0.99135812,  0.99166639,\n",
       "        0.99194501,  0.99219633,  0.99242349,  0.99262819,  0.99280926,\n",
       "        0.9929663 ,  0.99310132,  0.99321537,  0.99330785,  0.9933797 ,\n",
       "        0.993435  ,  0.99348224,  0.9935351 ,  0.99360866,  0.99371476,\n",
       "        0.99386025,  0.99404377,  0.99425366,  0.99447391,  0.99469112,\n",
       "        0.99489533,  0.99508077,  0.99524744,  0.9953974 ,  0.99553144,\n",
       "        0.99565181,  0.99576179,  0.99586155,  0.99595008,  0.99602898,\n",
       "        0.99610009,  0.99616357,  0.99621944,  0.99626707,  0.99630514,\n",
       "        0.9963343 ,  0.99635609,  0.9963712 ,  0.99638302,  0.9963979 ,\n",
       "        0.99642049,  0.99645521,  0.99650758,  0.99657725,  0.99665688,\n",
       "        0.99674056,  0.99682426,  0.9969016 ,  0.99696922,  0.99702947,\n",
       "        0.99708309,  0.99712879,  0.99716874,  0.99720448,  0.99723387,\n",
       "        0.99725738,  0.99727763,  0.99729325,  0.99730252,  0.99730727,\n",
       "        0.9973079 ,  0.99730351,  0.99729627,  0.99728846,  0.99728175,\n",
       "        0.9972816 ,  0.99729257,  0.99731304,  0.99734254,  0.99738322,\n",
       "        0.9974313 ,  0.99748081,  0.99753205,  0.99758481,  0.9976343 ,\n",
       "        0.99767937,  0.99772164,  0.99775899,  0.99779092,  0.99782054,\n",
       "        0.99784656,  0.99786647,  0.99788339,  0.99789882,  0.99791005,\n",
       "        0.99791889,  0.9979283 ,  0.99793548,  0.99794053,  0.99794894,\n",
       "        0.99796093,  0.99797407,  0.99799079,  0.99801058,  0.99802805,\n",
       "        0.99804356,  0.99805957,  0.99807251,  0.99808142,  0.9980904 ,\n",
       "        0.99809798,  0.99810113,  0.99810321,  0.99810487,  0.99810218,\n",
       "        0.99809745,  0.99809412,  0.99808841,  0.99807912,  0.99806968,\n",
       "        0.99805809,  0.99804281,  0.99802867,  0.99801465,  0.99799521,\n",
       "        0.99797438,  0.99795669,  0.9979365 ,  0.99791233,  0.99788986,\n",
       "        0.99786733,  0.99784122,  0.99781599,  0.99779213,  0.99776504,\n",
       "        0.99773755,  0.99771113,  0.99767872,  0.99764118,  0.99760586,\n",
       "        0.99756856,  0.99752393,  0.99747778,  0.99743095,  0.99737762,\n",
       "        0.9973217 ,  0.9972668 ,  0.99720546,  0.99713722,  0.99706903,\n",
       "        0.99699679,  0.99691589,  0.99683297,  0.99674782,  0.99665321,\n",
       "        0.99655351,  0.99645288,  0.99634388,  0.9962269 ,  0.99610859,\n",
       "        0.99598224,  0.99584287,  0.9956994 ,  0.99555138,  0.99538974,\n",
       "        0.99521946,  0.99504502,  0.99485704,  0.99465589,  0.99444997,\n",
       "        0.99423212,  0.99399638,  0.99375216,  0.99349817,  0.99322362,\n",
       "        0.9929335 ,  0.99263111,  0.99230343,  0.99194872,  0.99157538,\n",
       "        0.99117742,  0.99075635,  0.9903375 ,  0.98993912,  0.98957027,\n",
       "        0.98925113,  0.98898682,  0.98875566,  0.98855112,  0.98838737,\n",
       "        0.98827509,  0.98824212,  0.98833328,  0.98855647,  0.9888823 ,\n",
       "        0.98928349,  0.9897201 ,  0.99013733,  0.99051405,  0.99085336,\n",
       "        0.99114124,  0.9913755 ,  0.99157895,  0.99175028,  0.99187582,\n",
       "        0.99197257,  0.99204975,  0.99209164,  0.9921146 ])\n",
       "Coordinates:\n",
       "  * wavenumber_window_s1b1  (wavenumber_window_s1b1) float64 4.039e+03 ...\n",
       "Attributes:\n",
       "    scan_id: 1\n",
       "    band_id: 1\n",
       "    iteration: -1\n",
       "    gaz: CH4"
      ]
     },
     "execution_count": 14,
     "metadata": {},
     "output_type": "execute_result"
    }
   ],
   "source": [
    "tes.get('spc.CH4.01.01.final')"
   ]
  },
  {
   "cell_type": "code",
   "execution_count": 15,
   "metadata": {
    "collapsed": true
   },
   "outputs": [],
   "source": [
    "rundir = \"/home/bovy/sfit4/sfit4_v0.9.4.4/test_cases_features/x.o2.wlg/\""
   ]
  },
  {
   "cell_type": "code",
   "execution_count": 16,
   "metadata": {
    "collapsed": false
   },
   "outputs": [
    {
     "data": {
      "text/plain": [
       "{'data': array([ 0.9919,  0.9919,  0.9919, ...,  0.9995,  0.9995,  0.9995]),\n",
       " 'description': 'calculated solar spectrum',\n",
       " 'filename': '/home/bovy/sfit4/sfit4_v0.9.4.4/test_cases_features/x.o2.wlg/solar.output',\n",
       " 'sfit4_runtime': '2014-06-03 08:11:49',\n",
       " 'sfit4_version': '0.9.4.3',\n",
       " 'wavenumber': array([ 7764.782744,  7764.786511,  7764.790277, ...,  8005.208651,\n",
       "         8005.212417,  8005.216184])}"
      ]
     },
     "execution_count": 16,
     "metadata": {},
     "output_type": "execute_result"
    }
   ],
   "source": [
    "io.read_solar_spectrum(pjoin(rundir, \"solar.output\"))"
   ]
  },
  {
   "cell_type": "code",
   "execution_count": 17,
   "metadata": {
    "collapsed": false
   },
   "outputs": [
    {
     "data": {
      "text/plain": [
       "{'bands': [{'fovdia': 1.9,\n",
       "   'index': 1,\n",
       "   'n_points': 31859,\n",
       "   'pmax': 45.01,\n",
       "   'scans': [{'calculated_snr': 182.032591, 'index': 1, 'initial_snr': 200.0}],\n",
       "   'wavenumber_end': 8005.0,\n",
       "   'wavenumber_start': 7765.0,\n",
       "   'wavenumber_step': 0.007533084}],\n",
       " 'chi_square_obs': 1.207113,\n",
       " 'description': 'retrieval summary',\n",
       " 'dofs_total': 5.0,\n",
       " 'dofs_tpr': 0.0,\n",
       " 'dofs_trg': 1.0,\n",
       " 'filename': '/home/bovy/sfit4/sfit4_v0.9.4.4/test_cases_features/x.o2.wlg/summary',\n",
       " 'fit_rms': 0.0054934400000000005,\n",
       " 'has_converged': True,\n",
       " 'has_division_warnings': False,\n",
       " 'micro_window_headers': ['Wollongong test case for O2 at 7658cm-1'],\n",
       " 'n_iterations': 4,\n",
       " 'n_iterations_max': 13,\n",
       " 'retrieved_gases': [{'apriori_total_column': 4.57911e+24,\n",
       "   'has_retrieved_profile': False,\n",
       "   'index': 1,\n",
       "   'name': 'O2',\n",
       "   'retrieved_total_column': 4.64415e+24},\n",
       "  {'apriori_total_column': 7.3932e+22,\n",
       "   'has_retrieved_profile': False,\n",
       "   'index': 2,\n",
       "   'name': 'H2O',\n",
       "   'retrieved_total_column': 8.07891e+22},\n",
       "  {'apriori_total_column': 4.57911e+24,\n",
       "   'has_retrieved_profile': False,\n",
       "   'index': 3,\n",
       "   'name': 'O2CIA',\n",
       "   'retrieved_total_column': 5.53179e+19}],\n",
       " 'sfit4_runtime': '2014-06-03 08:11:49',\n",
       " 'sfit4_version': '0.9.4.3'}"
      ]
     },
     "execution_count": 17,
     "metadata": {},
     "output_type": "execute_result"
    }
   ],
   "source": [
    "io.read_summary(pjoin(rundir, \"summary\"))"
   ]
  }
 ],
 "metadata": {
  "kernelspec": {
   "display_name": "PySpectro (py34)",
   "language": "python",
   "name": "pyspectro_py34"
  },
  "language_info": {
   "codemirror_mode": {
    "name": "ipython",
    "version": 3
   },
   "file_extension": ".py",
   "mimetype": "text/x-python",
   "name": "python",
   "nbconvert_exporter": "python",
   "pygments_lexer": "ipython3",
   "version": "3.4.3"
  }
 },
 "nbformat": 4,
 "nbformat_minor": 0
}
