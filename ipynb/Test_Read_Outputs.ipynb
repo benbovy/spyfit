{
 "cells": [
  {
   "cell_type": "code",
   "execution_count": 1,
   "metadata": {
    "collapsed": false
   },
   "outputs": [],
   "source": [
    "import os\n",
    "\n",
    "import xarray as xr\n",
    "\n",
    "from spyfit import io"
   ]
  },
  {
   "cell_type": "code",
   "execution_count": 2,
   "metadata": {
    "collapsed": true
   },
   "outputs": [],
   "source": [
    "pjoin = os.path.join"
   ]
  },
  {
   "cell_type": "code",
   "execution_count": 3,
   "metadata": {
    "collapsed": true
   },
   "outputs": [],
   "source": [
    "rundir = \"/home/bovy/sfit4/sfit4_v0.9.4.4/test_cases_NDACC/x.co/\""
   ]
  },
  {
   "cell_type": "code",
   "execution_count": 4,
   "metadata": {
    "collapsed": false
   },
   "outputs": [
    {
     "data": {
      "text/plain": [
       "<xarray.Dataset>\n",
       "Dimensions:            (kernel: 43, level: 43)\n",
       "Coordinates:\n",
       "  * kernel             (kernel) int64 0 1 2 3 4 5 6 7 8 9 10 11 12 13 14 15 ...\n",
       "  * level              (level) int64 0 1 2 3 4 5 6 7 8 9 10 11 12 13 14 15 ...\n",
       "Data variables:\n",
       "    averaging_kernels  (kernel, level) float64 0.000203 0.0006986 0.0007535 ...\n",
       "Attributes:\n",
       "    sfit4_version: 0.9.4.3\n",
       "    sfit4_runtime: 2014-06-03 08:05:55"
      ]
     },
     "execution_count": 4,
     "metadata": {},
     "output_type": "execute_result"
    }
   ],
   "source": [
    "xr.Dataset(**io.read_matrix(pjoin(rundir, \"ak.out\"),\n",
    "                            var_name=\"averaging_kernels\",\n",
    "                            dims=('kernel', 'level')))\n",
    "\n",
    "# TODO: check the order of the kernel and level dimensions (same size)"
   ]
  },
  {
   "cell_type": "code",
   "execution_count": 5,
   "metadata": {
    "collapsed": false
   },
   "outputs": [
    {
     "data": {
      "text/plain": [
       "<xarray.Dataset>\n",
       "Dimensions:     (diag: 928)\n",
       "Coordinates:\n",
       "  * diag        (diag) int64 0 1 2 3 4 5 6 7 8 9 10 11 12 13 14 15 16 17 18 ...\n",
       "Data variables:\n",
       "    seinv__out  (diag) float64 3.404e+04 3.404e+04 3.404e+04 3.404e+04 ...\n",
       "Attributes:\n",
       "    sfit4_version: 0.9.4.3\n",
       "    sfit4_runtime: 2014-06-03 08:05:55"
      ]
     },
     "execution_count": 5,
     "metadata": {},
     "output_type": "execute_result"
    }
   ],
   "source": [
    "xr.Dataset(**io.read_matrix(pjoin(rundir, \"seinv.out\"), dims='diag'))"
   ]
  },
  {
   "cell_type": "code",
   "execution_count": 6,
   "metadata": {
    "collapsed": false
   },
   "outputs": [
    {
     "data": {
      "text/plain": [
       "<xarray.Dataset>\n",
       "Dimensions:                (level: 43)\n",
       "Coordinates:\n",
       "  * level                  (level) int64 0 1 2 3 4 5 6 7 8 9 10 11 12 13 14 ...\n",
       "Data variables:\n",
       "    apriori___CH3CHO       (level) float64 0.0 0.0 0.0 0.0 0.0 0.0 0.0 0.0 ...\n",
       "    apriori___HBR          (level) float64 7.153e-17 4.728e-14 1.976e-13 ...\n",
       "    apriori___NH3          (level) float64 1e-14 1e-14 1e-14 1e-14 1e-14 ...\n",
       "    apriori___zbar         (level) float64 95.0 85.0 77.2 70.9 64.4 58.9 ...\n",
       "    apriori___C4H8         (level) float64 0.0 0.0 0.0 0.0 0.0 0.0 0.0 0.0 ...\n",
       "    apriori___N2O          (level) float64 4.714e-11 9.905e-11 1.385e-10 ...\n",
       "    apriori___C3H6         (level) float64 0.0 0.0 0.0 0.0 0.0 0.0 0.0 0.0 ...\n",
       "    apriori___CH3CL        (level) float64 8.687e-15 2.465e-14 3.882e-14 ...\n",
       "    apriori___SO2          (level) float64 1.434e-12 8.073e-12 2.6e-11 ...\n",
       "    apriori___PAN          (level) float64 0.0 0.0 0.0 0.0 0.0 0.0 0.0 0.0 ...\n",
       "    apriori___CH3BR        (level) float64 5.69e-40 1.254e-38 3.096e-37 ...\n",
       "    apriori___OCS          (level) float64 1e-14 1e-14 1e-14 1e-14 1e-14 ...\n",
       "    apriori___CHF2CL       (level) float64 0.0 0.0 0.0 0.0 0.0 0.0 0.0 ...\n",
       "    apriori___CO           (level) float64 1.882e-05 1.063e-05 6.162e-06 ...\n",
       "    apriori___HOCL         (level) float64 2.446e-20 5.717e-14 1.721e-12 ...\n",
       "    apriori___HI           (level) float64 3e-12 3e-12 3e-12 3.001e-12 ...\n",
       "    apriori___CH3CN        (level) float64 0.0 0.0 0.0 0.0 0.0 0.0 0.0 0.0 ...\n",
       "    apriori___temperature  (level) float64 197.9 195.3 204.3 219.1 233.7 ...\n",
       "    apriori___airmass      (level) float64 2.55e+19 1.508e+20 2.856e+20 ...\n",
       "    apriori___H2O          (level) float64 2.267e-07 1.531e-06 3.091e-06 ...\n",
       "    apriori___N2           (level) float64 0.78 0.781 0.7811 0.7812 0.7812 ...\n",
       "    apriori___CCL3F        (level) float64 0.0 0.0 0.0 0.0 0.0 0.0 0.0 0.0 ...\n",
       "    apriori___pressure     (level) float64 0.0008599 0.005104 0.0153 0.0442 ...\n",
       "    apriori___C2H6PL       (level) float64 0.0 0.0 0.0 0.0 0.0 0.0 0.0 0.0 ...\n",
       "    apriori___HCL          (level) float64 7.019e-10 2.034e-09 2.783e-09 ...\n",
       "    apriori___CLO          (level) float64 6.763e-14 1.027e-12 1.865e-11 ...\n",
       "    apriori___NO2          (level) float64 9.681e-13 2.031e-11 5.984e-10 ...\n",
       "    apriori___COF2         (level) float64 1e-10 1e-10 1e-10 1.002e-10 ...\n",
       "    apriori___HONO         (level) float64 8.957e-15 1e-14 1.333e-14 ...\n",
       "    apriori___CLONO2       (level) float64 2.726e-22 1.975e-17 7.888e-16 ...\n",
       "    apriori___C2H2         (level) float64 1e-14 1e-14 1e-14 1e-14 1e-14 ...\n",
       "    apriori___CCL4         (level) float64 2.286e-36 1.001e-34 1.165e-33 ...\n",
       "    apriori___H2S          (level) float64 0.0 0.0 0.0 0.0 0.0 0.0 0.0 0.0 ...\n",
       "    apriori___HO2          (level) float64 1.97e-12 7.284e-10 1.672e-09 ...\n",
       "    apriori___C2H6         (level) float64 1e-14 1e-14 1e-14 1e-14 1e-14 ...\n",
       "    apriori___OH           (level) float64 1.225e-10 2.477e-09 4.439e-09 ...\n",
       "    apriori___COCLF        (level) float64 0.0 0.0 1.838e-18 8.642e-17 1e-16 ...\n",
       "    apriori___CH3F         (level) float64 5e-14 5e-14 5.001e-14 5.001e-14 ...\n",
       "    apriori___HF           (level) float64 7.34e-10 7.34e-10 7.341e-10 ...\n",
       "    apriori___H2CO         (level) float64 1.775e-14 9.451e-14 3.067e-13 ...\n",
       "    apriori___C3H8         (level) float64 3e-15 3e-15 3.001e-15 3.001e-15 ...\n",
       "    apriori___NO           (level) float64 3.832e-06 2.053e-07 3.511e-08 ...\n",
       "    apriori___C5H8         (level) float64 0.0 0.0 0.0 0.0 0.0 0.0 0.0 0.0 ...\n",
       "    apriori___O3           (level) float64 1.552e-06 5.618e-07 3.282e-07 ...\n",
       "    apriori___H2O2         (level) float64 8.802e-14 8.098e-11 2.05e-10 ...\n",
       "    apriori___SF6          (level) float64 0.0 0.0 0.0 0.0 0.0 0.0 1.855e-13 ...\n",
       "    apriori___CFC113       (level) float64 1.114e-11 1.139e-11 1.14e-11 ...\n",
       "    apriori___MACR         (level) float64 0.0 0.0 0.0 0.0 0.0 0.0 0.0 0.0 ...\n",
       "    apriori___HCN          (level) float64 1.5e-10 1.5e-10 1.5e-10 1.5e-10 ...\n",
       "    apriori___COCL2        (level) float64 1e-16 1e-16 1e-16 1e-16 1e-16 ...\n",
       "    apriori___N2O5         (level) float64 8.752e-20 6.736e-18 8.868e-17 ...\n",
       "    apriori___F134A        (level) float64 1.289e-12 1.317e-12 1.32e-12 ...\n",
       "    apriori___OCLO         (level) float64 1e-12 1e-12 1e-12 1e-12 1e-12 ...\n",
       "    apriori___HNO3         (level) float64 2.771e-14 1.021e-13 3.314e-13 ...\n",
       "    apriori___O2CIA        (level) float64 0.0 0.0 0.0 0.0 0.0 0.0 0.0 0.0 ...\n",
       "    apriori___O2           (level) float64 0.1832 0.2054 0.2097 0.211 0.212 ...\n",
       "    apriori___F141B        (level) float64 1.493e-12 1.527e-12 1.53e-12 ...\n",
       "    apriori___HCOOH        (level) float64 0.0 0.0 0.0 0.0 0.0 0.0 0.0 0.0 ...\n",
       "    apriori___CH3COOH      (level) float64 0.0 0.0 0.0 0.0 0.0 0.0 0.0 0.0 ...\n",
       "    apriori___F142B        (level) float64 1.433e-12 1.467e-12 1.47e-12 ...\n",
       "    apriori___CH3I         (level) float64 0.0 0.0 0.0 0.0 0.0 0.0 0.0 0.0 ...\n",
       "    apriori___NF3          (level) float64 0.0 0.0 0.0 0.0 0.0 0.0 0.0 0.0 ...\n",
       "    apriori___CO2          (level) float64 0.0002541 0.0003241 0.0003464 ...\n",
       "    apriori___MVK          (level) float64 0.0 0.0 0.0 0.0 0.0 0.0 0.0 0.0 ...\n",
       "    apriori___HO2NO2       (level) float64 1.796e-18 2.825e-16 2.943e-15 ...\n",
       "    apriori___C2H4         (level) float64 1e-15 1e-15 1e-15 1e-15 1e-15 ...\n",
       "    apriori___CHCL2F       (level) float64 0.0 0.0 0.0 0.0 0.0 0.0 0.0 0.0 ...\n",
       "    apriori___CH3CNPL      (level) float64 0.0 0.0 0.0 0.0 0.0 0.0 0.0 0.0 ...\n",
       "    apriori___z            (level) float64 90.0 80.0 74.4 67.4 61.4 56.4 ...\n",
       "    apriori___CH3OH        (level) float64 0.0 0.0 0.0 0.0 0.0 0.0 0.0 0.0 ...\n",
       "    apriori___CF4          (level) float64 3e-11 3e-11 3e-11 3.001e-11 ...\n",
       "    apriori___CH4          (level) float64 4.198e-09 3.814e-08 9.122e-08 ...\n",
       "    apriori___CCL2F2       (level) float64 1e-14 1e-14 1.023e-14 7.694e-14 ...\n",
       "    apriori___CH3CCL3      (level) float64 1.062e-33 4.923e-32 6.86e-31 ...\n",
       "Attributes:\n",
       "    source: /home/bovy/sfit4/sfit4_v0.9.4.4/test_cases_NDACC/x.co/aprfs.table\n",
       "    description: apriori z, p, t, airmass & profiles\n",
       "    sfit4_version: 0.9.4.3\n",
       "    sfit4_runtime: 2014-06-03 08:05:55"
      ]
     },
     "execution_count": 6,
     "metadata": {},
     "output_type": "execute_result"
    }
   ],
   "source": [
    "xr.Dataset(**io.read_profiles(pjoin(rundir, \"aprfs.table\"),\n",
    "                              var_name_prefix=\"apriori_\"))"
   ]
  },
  {
   "cell_type": "code",
   "execution_count": 7,
   "metadata": {
    "collapsed": false,
    "scrolled": false
   },
   "outputs": [
    {
     "data": {
      "text/plain": [
       "<xarray.Dataset>\n",
       "Dimensions:                  (level: 43)\n",
       "Coordinates:\n",
       "  * level                    (level) int64 0 1 2 3 4 5 6 7 8 9 10 11 12 13 ...\n",
       "Data variables:\n",
       "    retrieved___airmass      (level) float64 2.55e+19 1.508e+20 2.856e+20 ...\n",
       "    retrieved___pressure     (level) float64 0.0008599 0.005104 0.0153 ...\n",
       "    retrieved___CO2          (level) float64 0.0002816 0.0003592 0.0003839 ...\n",
       "    retrieved___z            (level) float64 90.0 80.0 74.4 67.4 61.4 56.4 ...\n",
       "    retrieved___OCS          (level) float64 6.997e-15 6.997e-15 6.998e-15 ...\n",
       "    retrieved___O3           (level) float64 1.552e-06 5.618e-07 3.282e-07 ...\n",
       "    retrieved___zbar         (level) float64 95.0 85.0 77.2 70.9 64.4 58.9 ...\n",
       "    retrieved___CO           (level) float64 1.873e-05 1.049e-05 6.053e-06 ...\n",
       "    retrieved___N2O          (level) float64 4.714e-11 9.905e-11 1.385e-10 ...\n",
       "    retrieved___temperature  (level) float64 197.9 195.3 204.3 219.1 233.7 ...\n",
       "    retrieved___H2O          (level) float64 3.188e-09 2.152e-08 4.346e-08 ...\n",
       "Attributes:\n",
       "    source: /home/bovy/sfit4/sfit4_v0.9.4.4/test_cases_NDACC/x.co/rprfs.table\n",
       "    description: retrieved z, p, t, airmass & profiles\n",
       "    sfit4_version: 0.9.4.3\n",
       "    sfit4_runtime: 2014-06-03 08:05:55"
      ]
     },
     "execution_count": 7,
     "metadata": {},
     "output_type": "execute_result"
    }
   ],
   "source": [
    "xr.Dataset(**io.read_profiles(pjoin(rundir, \"rprfs.table\"),\n",
    "                              var_name_prefix=\"retrieved_\",\n",
    "                              ret_gases=True))"
   ]
  },
  {
   "cell_type": "code",
   "execution_count": 8,
   "metadata": {
    "collapsed": false
   },
   "outputs": [
    {
     "data": {
      "text/plain": [
       "<xarray.Dataset>\n",
       "Dimensions:      (diag: 928, statevector: 147)\n",
       "Coordinates:\n",
       "  * statevector  (statevector) <U13 'BckGrdSlp_1' 'BckGrdSlp_2' ...\n",
       "  * diag         (diag) int64 0 1 2 3 4 5 6 7 8 9 10 11 12 13 14 15 16 17 18 ...\n",
       "Data variables:\n",
       "    gain_matrix  (diag, statevector) float64 -1.108 0.2097 0.001718 ...\n",
       "Attributes:\n",
       "    sfit4_version: 0.9.4.3\n",
       "    sfit4_runtime: 2014-06-03 08:05:55"
      ]
     },
     "execution_count": 8,
     "metadata": {},
     "output_type": "execute_result"
    }
   ],
   "source": [
    "xr.Dataset(**io.read_table(pjoin(rundir, \"g.out\"),\n",
    "                           var_name=\"gain_matrix\",\n",
    "                           dims=('diag', 'statevector')))"
   ]
  },
  {
   "cell_type": "code",
   "execution_count": 9,
   "metadata": {
    "collapsed": false
   },
   "outputs": [
    {
     "data": {
      "text/plain": [
       "<xarray.Dataset>\n",
       "Dimensions:                      (level: 43, param: 15)\n",
       "Coordinates:\n",
       "    altitude                     (level) float64 95.0 85.0 77.2 70.9 64.4 ...\n",
       "  * param                        (param) <U13 'BckGrdSlp_1' 'BckGrdSlp_2' ...\n",
       "  * level                        (level) int64 0 1 2 3 4 5 6 7 8 9 10 11 12 ...\n",
       "Data variables:\n",
       "    apriori_pressure             (level) float64 0.0008599 0.005104 0.0153 ...\n",
       "    apriori__CO2                 (level) float64 0.0002541 0.0003241 ...\n",
       "    retrieved__CO2               (level) float64 0.0002816 0.0003592 ...\n",
       "    retrieved__N2O               (level) float64 4.714e-11 9.905e-11 ...\n",
       "    retrieved_total_column__CO   float64 2.489e+18\n",
       "    retrieved_total_column__H2O  float64 3.685e+20\n",
       "    retrieved_total_column__CO2  float64 8.822e+21\n",
       "    apriori__O3                  (level) float64 1.552e-06 5.618e-07 ...\n",
       "    apriori__OCS                 (level) float64 1e-14 1e-14 1e-14 1e-14 ...\n",
       "    retrieved_total_column__N2O  float64 6.405e+18\n",
       "    apriori_temperature          (level) float64 197.9 195.3 204.3 219.1 ...\n",
       "    retrieved__OCS               (level) float64 6.997e-15 6.997e-15 ...\n",
       "    apriori__CO                  (level) float64 1.882e-05 1.063e-05 ...\n",
       "    retrieved_total_column__O3   float64 7.379e+18\n",
       "    retrieved__CO                (level) float64 1.873e-05 1.049e-05 ...\n",
       "    apriori__H2O                 (level) float64 2.267e-07 1.531e-06 ...\n",
       "    retrieved_total_column__OCS  float64 7.796e+15\n",
       "    retrieved__O3                (level) float64 1.552e-06 5.618e-07 ...\n",
       "    apriori__N2O                 (level) float64 4.714e-11 9.905e-11 ...\n",
       "    retrieved_parameters         (param) float64 0.2817 0.006768 -0.01748 ...\n",
       "    retrieved__H2O               (level) float64 3.188e-09 2.152e-08 ...\n",
       "    apriori_parameters           (param) float64 0.0 0.0 0.0 0.0 0.0 0.0 0.0 ...\n",
       "Attributes:\n",
       "    n_iteration: 9\n",
       "    source: /home/bovy/sfit4/sfit4_v0.9.4.4/test_cases_NDACC/x.co/statevec\n",
       "    n_iteration_max: 17\n",
       "    has_division_warnings: False\n",
       "    has_converged: True\n",
       "    is_temp: False\n",
       "    description: state vector\n",
       "    sfit4_version: 0.9.4.3\n",
       "    sfit4_runtime: 2014-06-03 08:05:55"
      ]
     },
     "execution_count": 9,
     "metadata": {},
     "output_type": "execute_result"
    }
   ],
   "source": [
    "xr.Dataset(**io.read_state_vector(pjoin(rundir, \"statevec\")))"
   ]
  },
  {
   "cell_type": "code",
   "execution_count": 10,
   "metadata": {
    "collapsed": false
   },
   "outputs": [
    {
     "data": {
      "text/plain": [
       "<xarray.Dataset>\n",
       "Dimensions:                   (band: 3, scan: 1, wn__band1: 129, wn__band2: 87, wn__band3: 712)\n",
       "Coordinates:\n",
       "  * wn__band3                 (wn__band3) float64 2.158e+03 2.158e+03 ...\n",
       "  * scan                      (scan) int64 1\n",
       "  * wn__band1                 (wn__band1) float64 2.058e+03 2.058e+03 ...\n",
       "  * wn__band2                 (wn__band2) float64 2.07e+03 2.07e+03 2.07e+03 ...\n",
       "  * band                      (band) int64 1 2 3\n",
       "Data variables:\n",
       "    fitted_spectrum__band1    (scan, wn__band1) float64 0.9106 0.9716 1.0 ...\n",
       "    spectrum_sza_code         (scan) int64 77955\n",
       "    n_retrieved_gas           (band) int64 4 4 5\n",
       "    observed_spectrum__band2  (scan, wn__band2) float64 0.9412 0.9333 0.9135 ...\n",
       "    observed_spectrum__band1  (scan, wn__band1) float64 0.9108 0.9728 0.9988 ...\n",
       "    observed_spectrum__band3  (scan, wn__band3) float64 0.9985 1.001 1.005 ...\n",
       "    spectrum_header           (scan) <U69 '25/03/2011, 09:52:32, SCAN TIME:142.52 SEC. RES= 0.0050  APOD FN = BX' ...\n",
       "    fitted_spectrum__band2    (scan, wn__band2) float64 0.9349 0.928 0.9141 ...\n",
       "    fitted_spectrum__band3    (scan, wn__band3) float64 1.0 0.9998 0.9978 ...\n",
       "Attributes:\n",
       "    source: /home/bovy/sfit4/sfit4_v0.9.4.4/test_cases_NDACC/x.co/pbpfile\n",
       "    description: observed, fitted and difference spectra\n",
       "    sfit4_version: 0.9.4.3\n",
       "    sfit4_runtime: 2014-06-03 08:05:55"
      ]
     },
     "execution_count": 10,
     "metadata": {},
     "output_type": "execute_result"
    }
   ],
   "source": [
    "xr.Dataset(**io.read_spectra(pjoin(rundir, \"pbpfile\")))"
   ]
  },
  {
   "cell_type": "code",
   "execution_count": 11,
   "metadata": {
    "collapsed": true
   },
   "outputs": [],
   "source": [
    "rundir = \"/home/bovy/sfit4/sfit4_v0.9.4.4/test_cases_NDACC/x.hf/\""
   ]
  },
  {
   "cell_type": "code",
   "execution_count": 12,
   "metadata": {
    "collapsed": false
   },
   "outputs": [
    {
     "data": {
      "text/plain": [
       "<xarray.Dataset>\n",
       "Dimensions:                 (iteration: 8, statevector: 48)\n",
       "Coordinates:\n",
       "  * statevector             (statevector) <U11 'BckGrdSlp_1' 'BckGrdCur_1' ...\n",
       "    statevector_index       (statevector) int64 1 2 3 4 5 6 7 8 9 10 11 12 ...\n",
       "  * iteration               (iteration) int32 1 2 3 4 5 6 7 -1\n",
       "Data variables:\n",
       "    statevector_iterations  (iteration, statevector) float64 0.0 0.0 0.0 0.0 ...\n",
       "Attributes:\n",
       "    source: /home/bovy/sfit4/sfit4_v0.9.4.4/test_cases_NDACC/x.hf/parm.output\n",
       "    sfit4_version: 0.9.4.3\n",
       "    sfit4_runtime: 2014-06-03 08:08:11"
      ]
     },
     "execution_count": 12,
     "metadata": {},
     "output_type": "execute_result"
    }
   ],
   "source": [
    "xr.Dataset(**io.read_param_iterations(pjoin(rundir, \"parm.output\")))"
   ]
  },
  {
   "cell_type": "code",
   "execution_count": 13,
   "metadata": {
    "collapsed": false
   },
   "outputs": [
    {
     "data": {
      "text/plain": [
       "<xarray.Dataset>\n",
       "Dimensions:                             (wn__band1: 299)\n",
       "Coordinates:\n",
       "  * wn__band1                           (wn__band1) float64 4.039e+03 ...\n",
       "Data variables:\n",
       "    fitted_spectrum__CH4__band1__s1i-1  (wn__band1) float64 0.9973 0.9974 ...\n",
       "Attributes:\n",
       "    filename: /home/bovy/sfit4/sfit4_v0.9.4.4/test_cases_NDACC/x.hf/spc.CH4.01.01.final"
      ]
     },
     "execution_count": 13,
     "metadata": {},
     "output_type": "execute_result"
    }
   ],
   "source": [
    "xr.Dataset(**io.read_single_spectrum(pjoin(rundir, \"spc.CH4.01.01.final\")))"
   ]
  },
  {
   "cell_type": "code",
   "execution_count": 14,
   "metadata": {
    "collapsed": true
   },
   "outputs": [],
   "source": [
    "rundir = \"/home/bovy/sfit4/sfit4_v0.9.4.4/test_cases_features/x.o2.wlg/\""
   ]
  },
  {
   "cell_type": "code",
   "execution_count": 15,
   "metadata": {
    "collapsed": false
   },
   "outputs": [
    {
     "data": {
      "text/plain": [
       "<xarray.Dataset>\n",
       "Dimensions:                    (wn_solar: 63835)\n",
       "Coordinates:\n",
       "  * wn_solar                   (wn_solar) float64 7.765e+03 7.765e+03 ...\n",
       "Data variables:\n",
       "    calculated_solar_spectrum  (wn_solar) float64 0.9919 0.9919 0.9919 ...\n",
       "Attributes:\n",
       "    source: /home/bovy/sfit4/sfit4_v0.9.4.4/test_cases_features/x.o2.wlg/solar.output\n",
       "    description: calculated solar spectrum\n",
       "    sfit4_version: 0.9.4.3\n",
       "    sfit4_runtime: 2014-06-03 08:11:49"
      ]
     },
     "execution_count": 15,
     "metadata": {},
     "output_type": "execute_result"
    }
   ],
   "source": [
    "xr.Dataset(**io.read_solar_spectrum(pjoin(rundir, \"solar.output\"),\n",
    "                                    var_name='calculated_solar_spectrum',\n",
    "                                    wdim='wn_solar'))"
   ]
  },
  {
   "cell_type": "code",
   "execution_count": 16,
   "metadata": {
    "collapsed": false
   },
   "outputs": [
    {
     "data": {
      "text/plain": [
       "{'bands': [{'fovdia': 1.9,\n",
       "   'index': 1,\n",
       "   'n_points': 31859,\n",
       "   'pmax': 45.01,\n",
       "   'scans': [{'calculated_snr': 182.032591, 'index': 1, 'initial_snr': 200.0}],\n",
       "   'wavenumber_end': 8005.0,\n",
       "   'wavenumber_start': 7765.0,\n",
       "   'wavenumber_step': 0.007533084}],\n",
       " 'chi_square_obs': 1.207113,\n",
       " 'description': 'retrieval summary',\n",
       " 'dofs_total': 5.0,\n",
       " 'dofs_tpr': 0.0,\n",
       " 'dofs_trg': 1.0,\n",
       " 'filename': '/home/bovy/sfit4/sfit4_v0.9.4.4/test_cases_features/x.o2.wlg/summary',\n",
       " 'fit_rms': 0.0054934400000000005,\n",
       " 'has_converged': True,\n",
       " 'has_division_warnings': False,\n",
       " 'micro_window_headers': ['Wollongong test case for O2 at 7658cm-1'],\n",
       " 'n_iterations': 4,\n",
       " 'n_iterations_max': 13,\n",
       " 'retrieved_gases': [{'apriori_total_column': 4.57911e+24,\n",
       "   'has_retrieved_profile': False,\n",
       "   'index': 1,\n",
       "   'name': 'O2',\n",
       "   'retrieved_total_column': 4.64415e+24},\n",
       "  {'apriori_total_column': 7.3932e+22,\n",
       "   'has_retrieved_profile': False,\n",
       "   'index': 2,\n",
       "   'name': 'H2O',\n",
       "   'retrieved_total_column': 8.07891e+22},\n",
       "  {'apriori_total_column': 4.57911e+24,\n",
       "   'has_retrieved_profile': False,\n",
       "   'index': 3,\n",
       "   'name': 'O2CIA',\n",
       "   'retrieved_total_column': 5.53179e+19}],\n",
       " 'sfit4_runtime': '2014-06-03 08:11:49',\n",
       " 'sfit4_version': '0.9.4.3'}"
      ]
     },
     "execution_count": 16,
     "metadata": {},
     "output_type": "execute_result"
    }
   ],
   "source": [
    "io.read_summary(pjoin(rundir, \"summary\"))"
   ]
  }
 ],
 "metadata": {
  "kernelspec": {
   "display_name": "PySpectro (py34)",
   "language": "python",
   "name": "pyspectro_py34"
  },
  "language_info": {
   "codemirror_mode": {
    "name": "ipython",
    "version": 3
   },
   "file_extension": ".py",
   "mimetype": "text/x-python",
   "name": "python",
   "nbconvert_exporter": "python",
   "pygments_lexer": "ipython3",
   "version": "3.4.4"
  }
 },
 "nbformat": 4,
 "nbformat_minor": 0
}
