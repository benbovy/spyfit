{
 "cells": [
  {
   "cell_type": "code",
   "execution_count": 1,
   "metadata": {
    "collapsed": false
   },
   "outputs": [],
   "source": [
    "import os\n",
    "\n",
    "import xarray as xr\n",
    "import pandas as pd\n",
    "import numpy as np\n",
    "\n",
    "import spyfit.io._sfit4out as io"
   ]
  },
  {
   "cell_type": "code",
   "execution_count": 2,
   "metadata": {
    "collapsed": true
   },
   "outputs": [],
   "source": [
    "pjoin = os.path.join"
   ]
  },
  {
   "cell_type": "code",
   "execution_count": 3,
   "metadata": {
    "collapsed": true
   },
   "outputs": [],
   "source": [
    "rundir = \"/home/bovy/sfit4/sfit4_v0.9.4.4/test_cases_NDACC/x.co/\""
   ]
  },
  {
   "cell_type": "code",
   "execution_count": 4,
   "metadata": {
    "collapsed": false
   },
   "outputs": [
    {
     "data": {
      "text/plain": [
       "<xarray.Dataset>\n",
       "Dimensions:            (kernel: 43, level: 43)\n",
       "Coordinates:\n",
       "  * kernel             (kernel) int64 0 1 2 3 4 5 6 7 8 9 10 11 12 13 14 15 ...\n",
       "  * level              (level) int64 0 1 2 3 4 5 6 7 8 9 10 11 12 13 14 15 ...\n",
       "Data variables:\n",
       "    averaging_kernels  (kernel, level) float64 0.000203 0.0006986 0.0007535 ...\n",
       "Attributes:\n",
       "    sfit4_version: 0.9.4.3\n",
       "    sfit4_runtime: 2014-06-03 08:05:55"
      ]
     },
     "execution_count": 4,
     "metadata": {},
     "output_type": "execute_result"
    }
   ],
   "source": [
    "xr.Dataset(**io.read_matrix(pjoin(rundir, \"ak.out\"),\n",
    "                            var_name=\"averaging_kernels\",\n",
    "                            dims=('kernel', 'level')))\n",
    "\n",
    "# TODO: check the order of the kernel and level dimensions (same size)"
   ]
  },
  {
   "cell_type": "code",
   "execution_count": 5,
   "metadata": {
    "collapsed": false
   },
   "outputs": [
    {
     "data": {
      "text/plain": [
       "<xarray.Dataset>\n",
       "Dimensions:     (diag: 928)\n",
       "Coordinates:\n",
       "  * diag        (diag) int64 0 1 2 3 4 5 6 7 8 9 10 11 12 13 14 15 16 17 18 ...\n",
       "Data variables:\n",
       "    seinv__out  (diag) float64 3.404e+04 3.404e+04 3.404e+04 3.404e+04 ...\n",
       "Attributes:\n",
       "    sfit4_version: 0.9.4.3\n",
       "    sfit4_runtime: 2014-06-03 08:05:55"
      ]
     },
     "execution_count": 5,
     "metadata": {},
     "output_type": "execute_result"
    }
   ],
   "source": [
    "xr.Dataset(**io.read_matrix(pjoin(rundir, \"seinv.out\"), dims='diag'))"
   ]
  },
  {
   "cell_type": "code",
   "execution_count": 6,
   "metadata": {
    "collapsed": false
   },
   "outputs": [
    {
     "data": {
      "text/plain": [
       "<xarray.Dataset>\n",
       "Dimensions:                (level: 43)\n",
       "Coordinates:\n",
       "  * level                  (level) int64 0 1 2 3 4 5 6 7 8 9 10 11 12 13 14 ...\n",
       "Data variables:\n",
       "    apriori___MVK          (level) float64 0.0 0.0 0.0 0.0 0.0 0.0 0.0 0.0 ...\n",
       "    apriori___CH3CCL3      (level) float64 1.062e-33 4.923e-32 6.86e-31 ...\n",
       "    apriori___HBR          (level) float64 7.153e-17 4.728e-14 1.976e-13 ...\n",
       "    apriori___HOCL         (level) float64 2.446e-20 5.717e-14 1.721e-12 ...\n",
       "    apriori___CH3I         (level) float64 0.0 0.0 0.0 0.0 0.0 0.0 0.0 0.0 ...\n",
       "    apriori___O2           (level) float64 0.1832 0.2054 0.2097 0.211 0.212 ...\n",
       "    apriori___pressure     (level) float64 0.0008599 0.005104 0.0153 0.0442 ...\n",
       "    apriori___HO2NO2       (level) float64 1.796e-18 2.825e-16 2.943e-15 ...\n",
       "    apriori___F141B        (level) float64 1.493e-12 1.527e-12 1.53e-12 ...\n",
       "    apriori___CH3CHO       (level) float64 0.0 0.0 0.0 0.0 0.0 0.0 0.0 0.0 ...\n",
       "    apriori___CCL3F        (level) float64 0.0 0.0 0.0 0.0 0.0 0.0 0.0 0.0 ...\n",
       "    apriori___CO           (level) float64 1.882e-05 1.063e-05 6.162e-06 ...\n",
       "    apriori___CH3F         (level) float64 5e-14 5e-14 5.001e-14 5.001e-14 ...\n",
       "    apriori___SF6          (level) float64 0.0 0.0 0.0 0.0 0.0 0.0 1.855e-13 ...\n",
       "    apriori___C2H2         (level) float64 1e-14 1e-14 1e-14 1e-14 1e-14 ...\n",
       "    apriori___CFC113       (level) float64 1.114e-11 1.139e-11 1.14e-11 ...\n",
       "    apriori___CF4          (level) float64 3e-11 3e-11 3e-11 3.001e-11 ...\n",
       "    apriori___CH3OH        (level) float64 0.0 0.0 0.0 0.0 0.0 0.0 0.0 0.0 ...\n",
       "    apriori___C2H6PL       (level) float64 0.0 0.0 0.0 0.0 0.0 0.0 0.0 0.0 ...\n",
       "    apriori___H2S          (level) float64 0.0 0.0 0.0 0.0 0.0 0.0 0.0 0.0 ...\n",
       "    apriori___C4H8         (level) float64 0.0 0.0 0.0 0.0 0.0 0.0 0.0 0.0 ...\n",
       "    apriori___NO           (level) float64 3.832e-06 2.053e-07 3.511e-08 ...\n",
       "    apriori___CO2          (level) float64 0.0002541 0.0003241 0.0003464 ...\n",
       "    apriori___NH3          (level) float64 1e-14 1e-14 1e-14 1e-14 1e-14 ...\n",
       "    apriori___CLO          (level) float64 6.763e-14 1.027e-12 1.865e-11 ...\n",
       "    apriori___F134A        (level) float64 1.289e-12 1.317e-12 1.32e-12 ...\n",
       "    apriori___H2CO         (level) float64 1.775e-14 9.451e-14 3.067e-13 ...\n",
       "    apriori___NO2          (level) float64 9.681e-13 2.031e-11 5.984e-10 ...\n",
       "    apriori___C3H6         (level) float64 0.0 0.0 0.0 0.0 0.0 0.0 0.0 0.0 ...\n",
       "    apriori___C2H6         (level) float64 1e-14 1e-14 1e-14 1e-14 1e-14 ...\n",
       "    apriori___COCLF        (level) float64 0.0 0.0 1.838e-18 8.642e-17 1e-16 ...\n",
       "    apriori___O2CIA        (level) float64 0.0 0.0 0.0 0.0 0.0 0.0 0.0 0.0 ...\n",
       "    apriori___C5H8         (level) float64 0.0 0.0 0.0 0.0 0.0 0.0 0.0 0.0 ...\n",
       "    apriori___C2H4         (level) float64 1e-15 1e-15 1e-15 1e-15 1e-15 ...\n",
       "    apriori___CHCL2F       (level) float64 0.0 0.0 0.0 0.0 0.0 0.0 0.0 0.0 ...\n",
       "    apriori___z            (level) float64 90.0 80.0 74.4 67.4 61.4 56.4 ...\n",
       "    apriori___CH4          (level) float64 4.198e-09 3.814e-08 9.122e-08 ...\n",
       "    apriori___HCOOH        (level) float64 0.0 0.0 0.0 0.0 0.0 0.0 0.0 0.0 ...\n",
       "    apriori___CHF2CL       (level) float64 0.0 0.0 0.0 0.0 0.0 0.0 0.0 ...\n",
       "    apriori___H2O          (level) float64 2.267e-07 1.531e-06 3.091e-06 ...\n",
       "    apriori___CH3COOH      (level) float64 0.0 0.0 0.0 0.0 0.0 0.0 0.0 0.0 ...\n",
       "    apriori___CCL4         (level) float64 2.286e-36 1.001e-34 1.165e-33 ...\n",
       "    apriori___NF3          (level) float64 0.0 0.0 0.0 0.0 0.0 0.0 0.0 0.0 ...\n",
       "    apriori___MACR         (level) float64 0.0 0.0 0.0 0.0 0.0 0.0 0.0 0.0 ...\n",
       "    apriori___SO2          (level) float64 1.434e-12 8.073e-12 2.6e-11 ...\n",
       "    apriori___COCL2        (level) float64 1e-16 1e-16 1e-16 1e-16 1e-16 ...\n",
       "    apriori___PAN          (level) float64 0.0 0.0 0.0 0.0 0.0 0.0 0.0 0.0 ...\n",
       "    apriori___CH3CNPL      (level) float64 0.0 0.0 0.0 0.0 0.0 0.0 0.0 0.0 ...\n",
       "    apriori___O3           (level) float64 1.552e-06 5.618e-07 3.282e-07 ...\n",
       "    apriori___CH3BR        (level) float64 5.69e-40 1.254e-38 3.096e-37 ...\n",
       "    apriori___OH           (level) float64 1.225e-10 2.477e-09 4.439e-09 ...\n",
       "    apriori___OCLO         (level) float64 1e-12 1e-12 1e-12 1e-12 1e-12 ...\n",
       "    apriori___airmass      (level) float64 2.55e+19 1.508e+20 2.856e+20 ...\n",
       "    apriori___temperature  (level) float64 197.9 195.3 204.3 219.1 233.7 ...\n",
       "    apriori___CH3CL        (level) float64 8.687e-15 2.465e-14 3.882e-14 ...\n",
       "    apriori___C3H8         (level) float64 3e-15 3e-15 3.001e-15 3.001e-15 ...\n",
       "    apriori___OCS          (level) float64 1e-14 1e-14 1e-14 1e-14 1e-14 ...\n",
       "    apriori___HCL          (level) float64 7.019e-10 2.034e-09 2.783e-09 ...\n",
       "    apriori___HI           (level) float64 3e-12 3e-12 3e-12 3.001e-12 ...\n",
       "    apriori___CLONO2       (level) float64 2.726e-22 1.975e-17 7.888e-16 ...\n",
       "    apriori___N2O          (level) float64 4.714e-11 9.905e-11 1.385e-10 ...\n",
       "    apriori___HCN          (level) float64 1.5e-10 1.5e-10 1.5e-10 1.5e-10 ...\n",
       "    apriori___N2           (level) float64 0.78 0.781 0.7811 0.7812 0.7812 ...\n",
       "    apriori___HO2          (level) float64 1.97e-12 7.284e-10 1.672e-09 ...\n",
       "    apriori___N2O5         (level) float64 8.752e-20 6.736e-18 8.868e-17 ...\n",
       "    apriori___HONO         (level) float64 8.957e-15 1e-14 1.333e-14 ...\n",
       "    apriori___CH3CN        (level) float64 0.0 0.0 0.0 0.0 0.0 0.0 0.0 0.0 ...\n",
       "    apriori___COF2         (level) float64 1e-10 1e-10 1e-10 1.002e-10 ...\n",
       "    apriori___CCL2F2       (level) float64 1e-14 1e-14 1.023e-14 7.694e-14 ...\n",
       "    apriori___HF           (level) float64 7.34e-10 7.34e-10 7.341e-10 ...\n",
       "    apriori___HNO3         (level) float64 2.771e-14 1.021e-13 3.314e-13 ...\n",
       "    apriori___zbar         (level) float64 95.0 85.0 77.2 70.9 64.4 58.9 ...\n",
       "    apriori___H2O2         (level) float64 8.802e-14 8.098e-11 2.05e-10 ...\n",
       "    apriori___F142B        (level) float64 1.433e-12 1.467e-12 1.47e-12 ...\n",
       "Attributes:\n",
       "    sfit4_version: 0.9.4.3\n",
       "    sfit4_runtime: 2014-06-03 08:05:55\n",
       "    source: /home/bovy/sfit4/sfit4_v0.9.4.4/test_cases_NDACC/x.co/aprfs.table\n",
       "    description: apriori z, p, t, airmass & profiles"
      ]
     },
     "execution_count": 6,
     "metadata": {},
     "output_type": "execute_result"
    }
   ],
   "source": [
    "xr.Dataset(**io.read_profiles(pjoin(rundir, \"aprfs.table\"),\n",
    "                              var_name_prefix=\"apriori_\"))"
   ]
  },
  {
   "cell_type": "code",
   "execution_count": 7,
   "metadata": {
    "collapsed": false,
    "scrolled": false
   },
   "outputs": [
    {
     "data": {
      "text/plain": [
       "<xarray.Dataset>\n",
       "Dimensions:                  (level: 43)\n",
       "Coordinates:\n",
       "  * level                    (level) int64 0 1 2 3 4 5 6 7 8 9 10 11 12 13 ...\n",
       "Data variables:\n",
       "    retrieved___O3           (level) float64 1.552e-06 5.618e-07 3.282e-07 ...\n",
       "    retrieved___CO           (level) float64 1.873e-05 1.049e-05 6.053e-06 ...\n",
       "    retrieved___OCS          (level) float64 6.997e-15 6.997e-15 6.998e-15 ...\n",
       "    retrieved___temperature  (level) float64 197.9 195.3 204.3 219.1 233.7 ...\n",
       "    retrieved___N2O          (level) float64 4.714e-11 9.905e-11 1.385e-10 ...\n",
       "    retrieved___CO2          (level) float64 0.0002816 0.0003592 0.0003839 ...\n",
       "    retrieved___z            (level) float64 90.0 80.0 74.4 67.4 61.4 56.4 ...\n",
       "    retrieved___pressure     (level) float64 0.0008599 0.005104 0.0153 ...\n",
       "    retrieved___airmass      (level) float64 2.55e+19 1.508e+20 2.856e+20 ...\n",
       "    retrieved___H2O          (level) float64 3.188e-09 2.152e-08 4.346e-08 ...\n",
       "    retrieved___zbar         (level) float64 95.0 85.0 77.2 70.9 64.4 58.9 ...\n",
       "Attributes:\n",
       "    sfit4_version: 0.9.4.3\n",
       "    sfit4_runtime: 2014-06-03 08:05:55\n",
       "    source: /home/bovy/sfit4/sfit4_v0.9.4.4/test_cases_NDACC/x.co/rprfs.table\n",
       "    description: retrieved z, p, t, airmass & profiles"
      ]
     },
     "execution_count": 7,
     "metadata": {},
     "output_type": "execute_result"
    }
   ],
   "source": [
    "xr.Dataset(**io.read_profiles(pjoin(rundir, \"rprfs.table\"),\n",
    "                              var_name_prefix=\"retrieved_\",\n",
    "                              ret_gases=True))"
   ]
  },
  {
   "cell_type": "code",
   "execution_count": 8,
   "metadata": {
    "collapsed": false
   },
   "outputs": [
    {
     "data": {
      "text/plain": [
       "<xarray.Dataset>\n",
       "Dimensions:      (diag: 928, statevector: 147)\n",
       "Coordinates:\n",
       "  * statevector  (statevector) <U13 'BckGrdSlp_1' 'BckGrdSlp_2' ...\n",
       "  * diag         (diag) int64 0 1 2 3 4 5 6 7 8 9 10 11 12 13 14 15 16 17 18 ...\n",
       "Data variables:\n",
       "    gain_matrix  (diag, statevector) float64 -1.108 0.2097 0.001718 ...\n",
       "Attributes:\n",
       "    sfit4_version: 0.9.4.3\n",
       "    sfit4_runtime: 2014-06-03 08:05:55"
      ]
     },
     "execution_count": 8,
     "metadata": {},
     "output_type": "execute_result"
    }
   ],
   "source": [
    "xr.Dataset(**io.read_table(pjoin(rundir, \"g.out\"),\n",
    "                           var_name=\"gain_matrix\",\n",
    "                           dims=('diag', 'statevector')))"
   ]
  },
  {
   "cell_type": "code",
   "execution_count": 9,
   "metadata": {
    "collapsed": false
   },
   "outputs": [
    {
     "data": {
      "text/plain": [
       "<xarray.Dataset>\n",
       "Dimensions:                      (level: 43, param: 15)\n",
       "Coordinates:\n",
       "    altitude                     (level) float64 95.0 85.0 77.2 70.9 64.4 ...\n",
       "  * param                        (param) <U13 'BckGrdSlp_1' 'BckGrdSlp_2' ...\n",
       "  * level                        (level) int64 0 1 2 3 4 5 6 7 8 9 10 11 12 ...\n",
       "Data variables:\n",
       "    retrieved_total_column__OCS  float64 7.796e+15\n",
       "    apriori_total_column__O3     float64 8.646e+18\n",
       "    apriori_temperature          (level) float64 197.9 195.3 204.3 219.1 ...\n",
       "    retrieved__CO2               (level) float64 0.0002816 0.0003592 ...\n",
       "    retrieved_total_column__CO2  float64 8.822e+21\n",
       "    retrieved__H2O               (level) float64 3.188e-09 2.152e-08 ...\n",
       "    apriori__OCS                 (level) float64 1e-14 1e-14 1e-14 1e-14 ...\n",
       "    retrieved__O3                (level) float64 1.552e-06 5.618e-07 ...\n",
       "    apriori__H2O                 (level) float64 2.267e-07 1.531e-06 ...\n",
       "    retrieved_total_column__CO   float64 2.489e+18\n",
       "    apriori__N2O                 (level) float64 4.714e-11 9.905e-11 ...\n",
       "    retrieved__CO                (level) float64 1.873e-05 1.049e-05 ...\n",
       "    apriori_total_column__CO     float64 1.714e+18\n",
       "    apriori_total_column__CO2    float64 7.96e+21\n",
       "    retrieved__N2O               (level) float64 4.714e-11 9.905e-11 ...\n",
       "    apriori_total_column__H2O    float64 2.621e+22\n",
       "    retrieved__OCS               (level) float64 6.997e-15 6.997e-15 ...\n",
       "    retrieved_parameters         (param) float64 0.2817 0.006768 -0.01748 ...\n",
       "    apriori_total_column__OCS    float64 1.114e+16\n",
       "    apriori__O3                  (level) float64 1.552e-06 5.618e-07 ...\n",
       "    apriori__CO2                 (level) float64 0.0002541 0.0003241 ...\n",
       "    apriori_parameters           (param) float64 0.0 0.0 0.0 0.0 0.0 0.0 0.0 ...\n",
       "    apriori_total_column__N2O    float64 6.319e+18\n",
       "    retrieved_total_column__N2O  float64 6.405e+18\n",
       "    apriori__CO                  (level) float64 1.882e-05 1.063e-05 ...\n",
       "    retrieved_total_column__O3   float64 7.379e+18\n",
       "    retrieved_total_column__H2O  float64 3.685e+20\n",
       "    apriori_pressure             (level) float64 0.0008599 0.005104 0.0153 ...\n",
       "Attributes:\n",
       "    n_iteration_max: 17\n",
       "    n_iteration: 9\n",
       "    has_converged: True\n",
       "    is_temp: False\n",
       "    has_division_warnings: False\n",
       "    sfit4_version: 0.9.4.3\n",
       "    sfit4_runtime: 2014-06-03 08:05:55\n",
       "    source: /home/bovy/sfit4/sfit4_v0.9.4.4/test_cases_NDACC/x.co/statevec\n",
       "    description: state vector"
      ]
     },
     "execution_count": 9,
     "metadata": {},
     "output_type": "execute_result"
    }
   ],
   "source": [
    "xr.Dataset(**io.read_state_vector(pjoin(rundir, \"statevec\")))"
   ]
  },
  {
   "cell_type": "code",
   "execution_count": 10,
   "metadata": {
    "collapsed": true
   },
   "outputs": [],
   "source": [
    "rundir = \"/home/bovy/sfit4/sfit4_v0.9.4.4/test_cases_NDACC/x.hf/\""
   ]
  },
  {
   "cell_type": "code",
   "execution_count": 11,
   "metadata": {
    "collapsed": false
   },
   "outputs": [
    {
     "data": {
      "text/plain": [
       "<xarray.Dataset>\n",
       "Dimensions:          (iteration: 1, spectrum: 777)\n",
       "Coordinates:\n",
       "    spec_wn          (spectrum) float64 4.039e+03 4.039e+03 4.039e+03 ...\n",
       "  * iteration        (iteration) int64 -1\n",
       "    spec_band        (spectrum) int64 1 1 1 1 1 1 1 1 1 1 1 1 1 1 1 1 1 1 1 ...\n",
       "    spec_scan        (spectrum) int64 1 1 1 1 1 1 1 1 1 1 1 1 1 1 1 1 1 1 1 ...\n",
       "  * spectrum         (spectrum) int64 0 1 2 3 4 5 6 7 8 9 10 11 12 13 14 15 ...\n",
       "Data variables:\n",
       "    spec_fitted_ALL  (iteration, spectrum) float64 0.9988 0.999 0.9987 ...\n",
       "    spec_observed    (spectrum) float64 1.015 1.005 0.9819 0.9835 1.004 ...\n",
       "Attributes:\n",
       "    spectrum_header__scan1: 23/06/2000, 20:32:03, SCAN TIME:142.41 SEC. RES= 0.0050  APOD FN = BX\n",
       "    n_retrieved_gas__band2: 4\n",
       "    n_retrieved_gas__band1: 4\n",
       "    sfit4_version: 0.9.4.3\n",
       "    sfit4_runtime: 2014-06-03 08:08:11\n",
       "    source: /home/bovy/sfit4/sfit4_v0.9.4.4/test_cases_NDACC/x.hf/pbpfile\n",
       "    description: observed, fitted and difference spectra"
      ]
     },
     "execution_count": 11,
     "metadata": {},
     "output_type": "execute_result"
    }
   ],
   "source": [
    "xr.Dataset(**io.read_spectra(pjoin(rundir, \"pbpfile\")))"
   ]
  },
  {
   "cell_type": "code",
   "execution_count": 12,
   "metadata": {
    "collapsed": false
   },
   "outputs": [
    {
     "data": {
      "text/plain": [
       "<xarray.Dataset>\n",
       "Dimensions:          (iteration: 1, spectrum: 777)\n",
       "Coordinates:\n",
       "  * iteration        (iteration) int64 -1\n",
       "  * spectrum         (spectrum) object (4038.7002412084403, 1, 1) ...\n",
       "Data variables:\n",
       "    spec_fitted_ALL  (iteration, spectrum) float64 0.9988 0.999 0.9987 ...\n",
       "    spec_observed    (spectrum) float64 1.015 1.005 0.9819 0.9835 1.004 ...\n",
       "Attributes:\n",
       "    spectrum_header__scan1: 23/06/2000, 20:32:03, SCAN TIME:142.41 SEC. RES= 0.0050  APOD FN = BX\n",
       "    n_retrieved_gas__band2: 4\n",
       "    n_retrieved_gas__band1: 4\n",
       "    sfit4_version: 0.9.4.3\n",
       "    sfit4_runtime: 2014-06-03 08:08:11\n",
       "    source: /home/bovy/sfit4/sfit4_v0.9.4.4/test_cases_NDACC/x.hf/pbpfile\n",
       "    description: observed, fitted and difference spectra"
      ]
     },
     "execution_count": 12,
     "metadata": {},
     "output_type": "execute_result"
    }
   ],
   "source": [
    "# xarray should provide a method to aggregate multiple coordinates\n",
    "# into a single MultiIndex coordinate (less verbose)\n",
    "from xarray.core.variable import Coordinate\n",
    "ds = xr.Dataset(**io.read_spectra(pjoin(rundir, \"pbpfile\")))\n",
    "tes = pd.MultiIndex.from_arrays((ds.spec_wn, ds.spec_band, ds.spec_scan))\n",
    "ds._variables['spectrum'] = Coordinate('spectrum', tes)\n",
    "ds = ds.reset_coords(names=['spec_wn', 'spec_band', 'spec_scan'], drop=True)\n",
    "ds"
   ]
  },
  {
   "cell_type": "code",
   "execution_count": 13,
   "metadata": {
    "collapsed": false
   },
   "outputs": [
    {
     "data": {
      "text/plain": [
       "<xarray.DataArray 'spec_fitted__H2O__band1__scan1__iter-1' (spec_wn__band1: 299)>\n",
       "array([  8.89921553e-01,   8.89496566e-01,   8.88684005e-01,\n",
       "         8.88598888e-01,   8.88427980e-01,   8.87593081e-01,\n",
       "         8.87238926e-01,   8.87218544e-01,   8.86514286e-01,\n",
       "         8.85896495e-01,   8.85874693e-01,   8.85389768e-01,\n",
       "         8.84601971e-01,   8.84435355e-01,   8.84165496e-01,\n",
       "         8.83347004e-01,   8.82953295e-01,   8.82814116e-01,\n",
       "         8.82095898e-01,   8.81475883e-01,   8.81339784e-01,\n",
       "         8.80798323e-01,   8.80027509e-01,   8.79773874e-01,\n",
       "         8.79409210e-01,   8.78602801e-01,   8.78160482e-01,\n",
       "         8.77904230e-01,   8.77171271e-01,   8.76538988e-01,\n",
       "         8.76287177e-01,   8.75691916e-01,   8.74929111e-01,\n",
       "         8.74581454e-01,   8.74124617e-01,   8.73324737e-01,\n",
       "         8.72823450e-01,   8.72450518e-01,   8.71700908e-01,\n",
       "         8.71044196e-01,   8.70671754e-01,   8.70022859e-01,\n",
       "         8.69258354e-01,   8.68808611e-01,   8.68260320e-01,\n",
       "         8.67460253e-01,   8.66888946e-01,   8.66398460e-01,\n",
       "         8.65629394e-01,   8.64936031e-01,   8.64437594e-01,\n",
       "         8.63734132e-01,   8.62957041e-01,   8.62395671e-01,\n",
       "         8.61755088e-01,   8.60946975e-01,   8.60292735e-01,\n",
       "         8.59680483e-01,   8.58886215e-01,   8.58142877e-01,\n",
       "         8.57512488e-01,   8.56752201e-01,   8.55950105e-01,\n",
       "         8.55266183e-01,   8.54530821e-01,   8.53705096e-01,\n",
       "         8.52954057e-01,   8.52215865e-01,   8.51390776e-01,\n",
       "         8.50583075e-01,   8.49812477e-01,   8.48990838e-01,\n",
       "         8.48149689e-01,   8.47330655e-01,   8.46496110e-01,\n",
       "         8.45641390e-01,   8.44777825e-01,   8.43907091e-01,\n",
       "         8.43042598e-01,   8.42153084e-01,   8.41231172e-01,\n",
       "         8.40341141e-01,   8.39444598e-01,   8.38475691e-01,\n",
       "         8.37535465e-01,   8.36638265e-01,   8.35644179e-01,\n",
       "         8.34632060e-01,   8.33717535e-01,   8.32726795e-01,\n",
       "         8.31640749e-01,   8.30673982e-01,   8.29704239e-01,\n",
       "         8.28568430e-01,   8.27513257e-01,   8.26557479e-01,\n",
       "         8.25412554e-01,   8.24247926e-01,   8.23270325e-01,\n",
       "         8.22156464e-01,   8.20891003e-01,   8.19836355e-01,\n",
       "         8.18772086e-01,   8.17448771e-01,   8.16266548e-01,\n",
       "         8.15233230e-01,   8.13913031e-01,   8.12579905e-01,\n",
       "         8.11521865e-01,   8.10259147e-01,   8.08794706e-01,\n",
       "         8.07636378e-01,   8.06452226e-01,   8.04917362e-01,\n",
       "         8.03591888e-01,   8.02457280e-01,   8.00933722e-01,\n",
       "         7.99413901e-01,   7.98255114e-01,   7.96813417e-01,\n",
       "         7.95126335e-01,   7.93845008e-01,   7.92511386e-01,\n",
       "         7.90736637e-01,   7.89248575e-01,   7.87985697e-01,\n",
       "         7.86225906e-01,   7.84495611e-01,   7.83210284e-01,\n",
       "         7.81554049e-01,   7.79615408e-01,   7.78186299e-01,\n",
       "         7.76666931e-01,   7.74616375e-01,   7.72939013e-01,\n",
       "         7.71513610e-01,   7.69477294e-01,   7.67505808e-01,\n",
       "         7.66061720e-01,   7.64148881e-01,   7.61923163e-01,\n",
       "         7.60314998e-01,   7.58567438e-01,   7.56199340e-01,\n",
       "         7.54299389e-01,   7.52669465e-01,   7.50309736e-01,\n",
       "         7.48061453e-01,   7.46419549e-01,   7.44198256e-01,\n",
       "         7.41640923e-01,   7.39814664e-01,   7.37787087e-01,\n",
       "         7.35050162e-01,   7.32887234e-01,   7.31003054e-01,\n",
       "         7.28261626e-01,   7.25688774e-01,   7.23799779e-01,\n",
       "         7.21208612e-01,   7.18265025e-01,   7.16171050e-01,\n",
       "         7.13800380e-01,   7.10631637e-01,   7.08153198e-01,\n",
       "         7.05952302e-01,   7.02759282e-01,   6.99804153e-01,\n",
       "         6.97607334e-01,   6.94571326e-01,   6.91175031e-01,\n",
       "         6.88753186e-01,   6.85963221e-01,   6.82285612e-01,\n",
       "         6.79426981e-01,   6.76833579e-01,   6.73102952e-01,\n",
       "         6.69692479e-01,   6.67112893e-01,   6.63541457e-01,\n",
       "         6.59609796e-01,   6.56783930e-01,   6.53481477e-01,\n",
       "         6.49201573e-01,   6.45883487e-01,   6.42806224e-01,\n",
       "         6.38435605e-01,   6.34482260e-01,   6.31429675e-01,\n",
       "         6.27213901e-01,   6.22647445e-01,   6.19327198e-01,\n",
       "         6.15402669e-01,   6.10409060e-01,   6.06535373e-01,\n",
       "         6.02864426e-01,   5.97731698e-01,   5.93131202e-01,\n",
       "         5.89499197e-01,   5.84511482e-01,   5.79193670e-01,\n",
       "         5.75273019e-01,   5.70597954e-01,   5.64761251e-01,\n",
       "         5.60223131e-01,   5.55835103e-01,   5.49801844e-01,\n",
       "         5.44436909e-01,   5.40107005e-01,   5.34204537e-01,\n",
       "         5.28006625e-01,   5.23371608e-01,   5.17807081e-01,\n",
       "         5.10988134e-01,   5.05672516e-01,   5.00438357e-01,\n",
       "         4.93358831e-01,   4.87112500e-01,   4.81970412e-01,\n",
       "         4.75011572e-01,   4.67810970e-01,   4.62360730e-01,\n",
       "         4.55778537e-01,   4.47851064e-01,   4.41667961e-01,\n",
       "         4.35483519e-01,   4.27236953e-01,   4.20027671e-01,\n",
       "         4.13999851e-01,   4.05882141e-01,   3.97606144e-01,\n",
       "         3.91302335e-01,   3.83636088e-01,   3.74542352e-01,\n",
       "         3.67488182e-01,   3.60340326e-01,   3.50899794e-01,\n",
       "         3.42760095e-01,   3.35900642e-01,   3.26650508e-01,\n",
       "         3.17373025e-01,   3.10345691e-01,   3.01701604e-01,\n",
       "         2.91571106e-01,   2.83859169e-01,   2.75961917e-01,\n",
       "         2.65535964e-01,   2.56767264e-01,   2.49421376e-01,\n",
       "         2.39360832e-01,   2.29482082e-01,   2.22224116e-01,\n",
       "         2.13078173e-01,   2.02430957e-01,   1.94709985e-01,\n",
       "         1.86728864e-01,   1.75987818e-01,   1.67399198e-01,\n",
       "         1.60448244e-01,   1.50435752e-01,   1.40928890e-01,\n",
       "         1.34546567e-01,   1.25980711e-01,   1.15956455e-01,\n",
       "         1.09541390e-01,   1.02801221e-01,   9.30544650e-02,\n",
       "         8.61283675e-02,   8.11253732e-02,   7.26331065e-02,\n",
       "         6.50808528e-02,   6.12889862e-02,   5.49048921e-02,\n",
       "         4.70986154e-02,   4.37440128e-02,   3.98985317e-02,\n",
       "         3.26435865e-02,   2.89960722e-02,   2.75090246e-02,\n",
       "         2.18096285e-02,   1.74766186e-02,   1.75606032e-02,\n",
       "         1.42700594e-02,   9.38528756e-03,   9.85928642e-03,\n",
       "         9.32847222e-03,   4.55664818e-03,   4.22489344e-03,\n",
       "         6.08974721e-03,   2.43259475e-03,   5.07635027e-04,\n",
       "         3.69628029e-03,   2.13717783e-03,  -1.43518425e-03,\n",
       "         1.55900696e-03,   2.65728223e-03,  -1.78776005e-03,\n",
       "        -5.03455004e-04,   3.06249777e-03])\n",
       "Coordinates:\n",
       "  * spec_wn__band1  (spec_wn__band1) float64 4.039e+03 4.039e+03 4.039e+03 ...\n",
       "Attributes:\n",
       "    iteration: -1\n",
       "    band_id: 1\n",
       "    gas: H2O\n",
       "    scan_id: 1\n",
       "    source: /home/bovy/sfit4/sfit4_v0.9.4.4/test_cases_NDACC/x.hf/spc.H2O.01.01.final"
      ]
     },
     "execution_count": 13,
     "metadata": {},
     "output_type": "execute_result"
    }
   ],
   "source": [
    "xr.DataArray(**io.read_single_spectrum(pjoin(rundir, \"spc.H2O.01.01.final\")))"
   ]
  },
  {
   "cell_type": "code",
   "execution_count": 14,
   "metadata": {
    "collapsed": false
   },
   "outputs": [
    {
     "data": {
      "text/plain": [
       "<xarray.Dataset>\n",
       "Dimensions:             (iteration: 1, spectrum: 777)\n",
       "Coordinates:\n",
       "    spec_wn             (spectrum) float64 4.039e+03 4.039e+03 4.039e+03 ...\n",
       "  * iteration           (iteration) int64 -1\n",
       "    spec_scan           (spectrum) int64 1 1 1 1 1 1 1 1 1 1 1 1 1 1 1 1 1 1 ...\n",
       "    spec_band           (spectrum) int64 1 1 1 1 1 1 1 1 1 1 1 1 1 1 1 1 1 1 ...\n",
       "  * spectrum            (spectrum) int64 0 1 2 3 4 5 6 7 8 9 10 11 12 13 14 ...\n",
       "Data variables:\n",
       "    spec_fitted__HDO    (iteration, spectrum) float64 0.9369 0.9378 0.9387 ...\n",
       "    spec_fitted__ALL    (iteration, spectrum) float64 0.9988 0.999 0.9987 ...\n",
       "    spec_fitted__SOLAR  (iteration, spectrum) float64 0.999 0.9991 0.9991 ...\n",
       "    spec_fitted__CH4    (iteration, spectrum) float64 0.9973 0.9974 0.9974 ...\n",
       "    spec_fitted__HF     (iteration, spectrum) float64 0.9998 0.9998 0.9998 ...\n",
       "    spec_fitted__H2O    (iteration, spectrum) float64 0.8899 0.8895 0.8887 ...\n",
       "Attributes:\n",
       "    source: /home/bovy/sfit4/sfit4_v0.9.4.4/test_cases_NDACC/x.hf/spc.*"
      ]
     },
     "execution_count": 14,
     "metadata": {},
     "output_type": "execute_result"
    }
   ],
   "source": [
    "xr.Dataset(**io.read_single_spectra(pjoin(rundir, \"spc.*\")))"
   ]
  },
  {
   "cell_type": "code",
   "execution_count": 15,
   "metadata": {
    "collapsed": false
   },
   "outputs": [
    {
     "data": {
      "text/plain": [
       "<xarray.Dataset>\n",
       "Dimensions:                 (iteration: 8, statevector: 48)\n",
       "Coordinates:\n",
       "  * iteration               (iteration) int32 1 2 3 4 5 6 7 -1\n",
       "  * statevector             (statevector) <U11 'BckGrdSlp_1' 'BckGrdCur_1' ...\n",
       "    statevector_index       (statevector) int64 1 2 3 4 5 6 7 8 9 10 11 12 ...\n",
       "Data variables:\n",
       "    statevector_iterations  (iteration, statevector) float64 0.0 0.0 0.0 0.0 ...\n",
       "Attributes:\n",
       "    sfit4_version: 0.9.4.3\n",
       "    sfit4_runtime: 2014-06-03 08:08:11\n",
       "    source: /home/bovy/sfit4/sfit4_v0.9.4.4/test_cases_NDACC/x.hf/parm.output"
      ]
     },
     "execution_count": 15,
     "metadata": {},
     "output_type": "execute_result"
    }
   ],
   "source": [
    "xr.Dataset(**io.read_param_iterations(pjoin(rundir, \"parm.output\")))"
   ]
  },
  {
   "cell_type": "code",
   "execution_count": 16,
   "metadata": {
    "collapsed": true
   },
   "outputs": [],
   "source": [
    "rundir = \"/home/bovy/sfit4/sfit4_v0.9.4.4/test_cases_features/x.o2.wlg/\""
   ]
  },
  {
   "cell_type": "code",
   "execution_count": 17,
   "metadata": {
    "collapsed": false
   },
   "outputs": [
    {
     "data": {
      "text/plain": [
       "<xarray.Dataset>\n",
       "Dimensions:           (wavenumber_solar: 63835)\n",
       "Coordinates:\n",
       "  * wavenumber_solar  (wavenumber_solar) float64 7.765e+03 7.765e+03 ...\n",
       "Data variables:\n",
       "    spec_calc__SOLAR  (wavenumber_solar) float64 0.9919 0.9919 0.9919 0.9919 ...\n",
       "Attributes:\n",
       "    sfit4_version: 0.9.4.3\n",
       "    sfit4_runtime: 2014-06-03 08:11:49\n",
       "    source: /home/bovy/sfit4/sfit4_v0.9.4.4/test_cases_features/x.o2.wlg/solar.output\n",
       "    description: calculated solar spectrum"
      ]
     },
     "execution_count": 17,
     "metadata": {},
     "output_type": "execute_result"
    }
   ],
   "source": [
    "xr.Dataset(**io.read_solar_spectrum(pjoin(rundir, \"solar.output\"),\n",
    "                                    var_name='spec_calc__SOLAR',\n",
    "                                    wdim='wavenumber_solar'))"
   ]
  },
  {
   "cell_type": "code",
   "execution_count": 18,
   "metadata": {
    "collapsed": false
   },
   "outputs": [
    {
     "data": {
      "text/plain": [
       "<xarray.Dataset>\n",
       "Dimensions:                        (band: 1, scan: 1, spectrum: 31860)\n",
       "Coordinates:\n",
       "  * scan                           (scan) int64 1\n",
       "    spec_wn                        (spectrum) float64 7.765e+03 7.765e+03 ...\n",
       "  * band                           (band) int64 1\n",
       "    spec_scan                      (spectrum) int64 1 1 1 1 1 1 1 1 1 1 1 1 ...\n",
       "    spec_band                      (spectrum) int64 1 1 1 1 1 1 1 1 1 1 1 1 ...\n",
       "  * spectrum                       (spectrum) int64 0 1 2 3 4 5 6 7 8 9 10 ...\n",
       "Data variables:\n",
       "    apriori_total_column__H2O      float64 7.393e+22\n",
       "    dofs_trg                       float64 1.0\n",
       "    fovdia                         (band) float64 1.9\n",
       "    pmax                           (band) float64 45.01\n",
       "    calculated_snr                 (band, scan) float64 182.0\n",
       "    initial_snr                    (band, scan) float64 200.0\n",
       "    retrieved_total_column__H2O    float64 8.079e+22\n",
       "    retrieved_total_column__O2     float64 4.644e+24\n",
       "    apriori_total_column__O2       float64 4.579e+24\n",
       "    dofs_tpr                       float64 0.0\n",
       "    fit_rms                        float64 0.005493\n",
       "    chi_square_obs                 float64 1.207\n",
       "    retrieved_total_column__O2CIA  float64 5.532e+19\n",
       "    dofs_total                     float64 5.0\n",
       "    apriori_total_column__O2CIA    float64 4.579e+24\n",
       "Attributes:\n",
       "    n_iterations: 4\n",
       "    n_iterations_max: 13\n",
       "    has_division_warnings: False\n",
       "    has_converged: True\n",
       "    sfit4_version: 0.9.4.3\n",
       "    sfit4_runtime: 2014-06-03 08:11:49\n",
       "    source: /home/bovy/sfit4/sfit4_v0.9.4.4/test_cases_features/x.o2.wlg/summary\n",
       "    description: retrieval summary"
      ]
     },
     "execution_count": 18,
     "metadata": {},
     "output_type": "execute_result"
    }
   ],
   "source": [
    "xr.Dataset(**io.read_summary(pjoin(rundir, \"summary\")))"
   ]
  }
 ],
 "metadata": {
  "kernelspec": {
   "display_name": "Python [pyspectro_py34]",
   "language": "python",
   "name": "Python [pyspectro_py34]"
  },
  "language_info": {
   "codemirror_mode": {
    "name": "ipython",
    "version": 3
   },
   "file_extension": ".py",
   "mimetype": "text/x-python",
   "name": "python",
   "nbconvert_exporter": "python",
   "pygments_lexer": "ipython3",
   "version": "3.4.4"
  }
 },
 "nbformat": 4,
 "nbformat_minor": 0
}
