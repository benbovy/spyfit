{
 "cells": [
  {
   "cell_type": "code",
   "execution_count": 1,
   "metadata": {
    "collapsed": true
   },
   "outputs": [],
   "source": [
    "import os\n",
    "\n",
    "import numpy as np\n",
    "import pandas as pd\n",
    "import xarray as xr\n",
    "\n",
    "from spyfit.io._sfit4in import *\n",
    "from spyfit.io._sfit4out import *"
   ]
  },
  {
   "cell_type": "code",
   "execution_count": 2,
   "metadata": {
    "collapsed": false
   },
   "outputs": [
    {
     "name": "stdout",
     "output_type": "stream",
     "text": [
      "/home/bovy/sfit4/sfit4_v0.9.4.4/test_cases_NDACC/x.ch4\n"
     ]
    }
   ],
   "source": [
    "%cd \"/home/bovy/sfit4/sfit4_v0.9.4.4/test_cases_NDACC/x.ch4/\""
   ]
  },
  {
   "cell_type": "code",
   "execution_count": 3,
   "metadata": {
    "collapsed": false
   },
   "outputs": [
    {
     "name": "stdout",
     "output_type": "stream",
     "text": [
      "8.7M\t.\r\n",
      "8.7M\ttotal\r\n"
     ]
    }
   ],
   "source": [
    "!du -ch --exclude '*hbin*' --exclude 'sfit4.dtl' --exclude '*.nc'"
   ]
  },
  {
   "cell_type": "code",
   "execution_count": 4,
   "metadata": {
    "collapsed": false
   },
   "outputs": [
    {
     "name": "stdout",
     "output_type": "stream",
     "text": [
      "02609.659356-02908.070644.hbin\tk.output\tsa.complete  station.layers\r\n",
      "ak.target\t\t\tkb.out\t\tsainv.input  summary\r\n",
      "apod_poly.dat\t\t\tpbpfile\t\tsfit4.ctl    test.nc\r\n",
      "aprfs.table\t\t\tphase_poly.dat\tsfit4.dtl\r\n",
      "hbin.input\t\t\treference.prf\tspectrum\r\n",
      "isotope.input\t\t\trprfs.table\tstatevec\r\n"
     ]
    }
   ],
   "source": [
    "!ls"
   ]
  },
  {
   "cell_type": "code",
   "execution_count": 5,
   "metadata": {
    "collapsed": false
   },
   "outputs": [],
   "source": [
    "_read_g_out = lambda f: read_table(f, var_name=\"gain_matrix\",\n",
    "                                   dims=('statevector', 'diag'),\n",
    "                                   index_cols=False)\n",
    "_read_k_out = lambda f: read_table(f, var_name=\"k_matrix\",\n",
    "                                   dims=('diag', 'statevector'))\n",
    "_read_kb_out = lambda f: read_table(f, var_name='kb_vectors',\n",
    "                                    dims=('diag', 'mparam'))\n",
    "_read_shat_out = lambda f: read_table(f, var_name=\"cov_matrix_fitted\",\n",
    "                                      dims=('statevector', 'statevector'))\n",
    "_read_sa_out = lambda f: read_table(f, var_name=\"cov_matrix_initial\",\n",
    "                                    dims=('statevector', 'statevector'))\n",
    "\n",
    "\n",
    "def _read_summary_clean(f):\n",
    "    d = read_summary(f)\n",
    "    # total column values may be slightly different than in\n",
    "    # `file.out.retprofiles` (not the same precision): skip here.\n",
    "    for k in list(d['data_vars'].keys()):\n",
    "        if 'total_column' in k:\n",
    "            del d['data_vars'][k]\n",
    "    # wavenumber start/stop values are the same than in `sfit4.ctl`\n",
    "    # but not than in `file.out.pbpfile`: skip here.\n",
    "    for k in ('spec_wn', 'spec_band', 'spec_scan'):\n",
    "        del d['coords'][k]\n",
    "    return d\n",
    "\n",
    "\n",
    "def _read_spectrum_raw(f):\n",
    "    # spectral, band and scan data in `file.in.spectrum` don't\n",
    "    # seem to be always equal to observed spectrum in `file.out.pbpfile`.\n",
    "    # use different dimension and variable names here.\n",
    "    d = read_spectrum(f, spdim='spectrum_in', bdim='band_in',\n",
    "                      sdim='scan_in', wcoord='spec_in_wn',\n",
    "                      scoord='spec_in_scan', bcoord='spec_in_band')\n",
    "    d['data_vars'] = {k.replace('spec_', 'spec_in_'): v\n",
    "                      for k, v in d['data_vars'].items()}\n",
    "    return d\n",
    "\n",
    "\n",
    "_map_filename_read_func = {\n",
    "    # sfit4.ctl field name: (default sfit4 filename, read function) \n",
    "    'file__in__stalayers': ('station.layers', read_layers),\n",
    "    'file__in__refprofile': ('reference.prf', read_ref_profiles),\n",
    "    'file__in__spectrum': ('t15asc.4', _read_spectrum_raw),\n",
    "    'file__out__ak_matrix': ('ak.out', read_ak_matrix),\n",
    "    'file__out__seinv_vector': ('seinv.out', read_seinv_vector),\n",
    "    'file__out__g_matrix': ('g.out', _read_g_out),\n",
    "    'file__out__k_matrix': ('k.out', _read_k_out),\n",
    "    'file__out__kb_matrix': ('kb.out', _read_kb_out),\n",
    "    'file__out__shat_matrix': ('shat.complete', _read_shat_out),\n",
    "    'file__out__sa_matrix': ('sa.complete', _read_sa_out),\n",
    "    'file__out__aprprofiles': ('aprfs.table', read_aprfs),\n",
    "    'file__out__retprofiles': ('rprfs.table', read_rprfs),\n",
    "    'file__out__pbpfile': ('pbpfile', read_spectra),\n",
    "    'file__out__statevec': ('statevec', read_state_vector),\n",
    "    'file__out__summary': ('summary', _read_summary_clean)\n",
    "}"
   ]
  },
  {
   "cell_type": "code",
   "execution_count": 6,
   "metadata": {
    "collapsed": false
   },
   "outputs": [],
   "source": [
    "#ds.sfit4_ctl"
   ]
  },
  {
   "cell_type": "code",
   "execution_count": 7,
   "metadata": {
    "collapsed": false
   },
   "outputs": [],
   "source": [
    "def _read_and_merge(ds, read_func, filename, attrs):\n",
    "    temp_ds = xr.Dataset(**read_func(filename))\n",
    "    ds.merge(temp_ds, inplace=True, compat='identical')\n",
    "    \n",
    "    # xarray doesn't merge global attributes\n",
    "    attrs.update(temp_ds.attrs)\n",
    "\n",
    "\n",
    "def load_sfit4_rundir(dirname):\n",
    "    ds = xr.Dataset(**read_ctl(os.path.join(dirname, \"sfit4.ctl\")))\n",
    "    global_attrs = {}\n",
    "    sfit4_inputs = ds.sfit4_ctl.attrs\n",
    "\n",
    "    for input_name, v in _map_filename_read_func.items():\n",
    "        default_filename, read_func = v\n",
    "        filename = sfit4_inputs.get(input_name, default_filename)\n",
    "        if not os.path.exists(filename):\n",
    "            continue\n",
    "        _read_and_merge(ds, read_func, filename, global_attrs)\n",
    "    \n",
    "    if sfit4_inputs.get('out__gas_spectra', False):\n",
    "        _read_and_merge(ds, read_single_spectra, 'spc.*',\n",
    "                        global_attrs)\n",
    "    \n",
    "    # TODO: convert spectrum coord to multi-index\n",
    "    \n",
    "    # update/overwrite global attributes\n",
    "    ds.attrs.update(global_attrs)\n",
    "    ds.attrs['source'] = os.path.abspath(dirname)\n",
    "    ds.attrs['description'] = 'data from a single sfit4 run'\n",
    "    \n",
    "    return ds\n",
    "\n",
    "# TODO: check 'diag' dimension, same scan/band ordering than 'spectrum' dim? "
   ]
  },
  {
   "cell_type": "code",
   "execution_count": 8,
   "metadata": {
    "collapsed": false
   },
   "outputs": [
    {
     "name": "stdout",
     "output_type": "stream",
     "text": [
      "1 loop, best of 3: 1.01 s per loop\n"
     ]
    }
   ],
   "source": [
    "%timeit load_sfit4_rundir(os.curdir)"
   ]
  },
  {
   "cell_type": "code",
   "execution_count": 9,
   "metadata": {
    "collapsed": false
   },
   "outputs": [
    {
     "data": {
      "text/plain": [
       "<xarray.Dataset>\n",
       "Dimensions:                      (band: 4, band_in: 5, diag: 1610, iteration: 1, kernel: 47, level: 47, level_lbound: 48, mparam: 130, param: 8, rlevel: 43, scan: 1, scan_in: 1, spectrum: 1610, spectrum_in: 2443, statevector: 58)\n",
       "Coordinates:\n",
       "  * level                        (level) int64 0 1 2 3 4 5 6 7 8 9 10 11 12 ...\n",
       "  * param                        (param) <U11 'BckGrdSlp_1' 'BckGrdSlp_2' ...\n",
       "    altitude                     (level) float64 113.0 100.2 89.85 81.1 ...\n",
       "    spec_scan                    (spectrum) int64 1 1 1 1 1 1 1 1 1 1 1 1 1 ...\n",
       "  * iteration                    (iteration) int64 -1\n",
       "    spec_wn                      (spectrum) float64 2.614e+03 2.614e+03 ...\n",
       "    spec_band                    (spectrum) int64 1 1 1 1 1 1 1 1 1 1 1 1 1 ...\n",
       "  * spectrum                     (spectrum) int64 0 1 2 3 4 5 6 7 8 9 10 11 ...\n",
       "  * level_lbound                 (level_lbound) int64 0 1 2 3 4 5 6 7 8 9 10 ...\n",
       "  * band                         (band) int64 1 2 3 4\n",
       "  * scan                         (scan) int64 1\n",
       "  * rlevel                       (rlevel) int64 0 1 2 3 4 5 6 7 8 9 10 11 12 ...\n",
       "  * kernel                       (kernel) int64 0 1 2 3 4 5 6 7 8 9 10 11 12 ...\n",
       "  * statevector                  (statevector) <U11 'BckGrdSlp_1' ...\n",
       "  * mparam                       (mparam) <U13 'BckGrdCur_1' 'BckGrdCur_2' ...\n",
       "  * diag                         (diag) int64 0 1 2 3 4 5 6 7 8 9 10 11 12 ...\n",
       "    spec_in_scan                 (spectrum_in) int64 1 1 1 1 1 1 1 1 1 1 1 1 ...\n",
       "    spec_in_wn                   (spectrum_in) float64 2.614e+03 2.614e+03 ...\n",
       "  * band_in                      (band_in) int64 1 2 3 4 5\n",
       "  * scan_in                      (scan_in) int64 1\n",
       "    spec_in_band                 (spectrum_in) int64 1 1 1 1 1 1 1 1 1 1 1 1 ...\n",
       "  * spectrum_in                  (spectrum_in) int64 0 1 2 3 4 5 6 7 8 9 10 ...\n",
       "Data variables:\n",
       "    gas__profile__CH4__sigma     (level) float64 1.0 1.0 1.0 1.0 1.0 1.0 1.0 ...\n",
       "    sfit4_ctl                    float64 nan\n",
       "    retrieved___CH4              (level) float64 7.169e-10 1.664e-09 ...\n",
       "    retrieved___NO2              (level) float64 1.807e-12 1.67e-12 ...\n",
       "    retrieved___HDO              (level) float64 1.244e-08 5.574e-08 ...\n",
       "    retrieved___pressure         (level) float64 9.043e-05 0.0005108 0.00233 ...\n",
       "    retrieved___temperature      (level) float64 292.7 210.3 212.7 219.1 ...\n",
       "    retrieved___airmass          (level) float64 2.487e+18 1.594e+19 ...\n",
       "    retrieved___CO2              (level) float64 0.0001306 0.0002248 ...\n",
       "    retrieved___z                (level) float64 106.0 94.5 85.2 77.0 69.77 ...\n",
       "    retrieved___zbar             (level) float64 113.0 100.2 89.85 81.1 ...\n",
       "    retrieved__HDO               (level) float64 1.244e-08 5.574e-08 ...\n",
       "    apriori_total_column__CH4    float64 3.604e+19\n",
       "    retrieved_total_column__CH4  float64 3.528e+19\n",
       "    apriori_total_column__NO2    float64 3.465e+15\n",
       "    retrieved_total_column__NO2  float64 3.451e+15\n",
       "    retrieved__CH4               (level) float64 7.169e-10 1.664e-09 ...\n",
       "    retrieved_total_column__HDO  float64 7.772e+21\n",
       "    apriori_total_column__HDO    float64 4.046e+22\n",
       "    apriori__CO2                 (level) float64 0.0001195 0.0002057 ...\n",
       "    apriori_total_column__CO2    float64 7.748e+21\n",
       "    apriori__HDO                 (level) float64 6.48e-08 2.902e-07 ...\n",
       "    apriori__CH4                 (level) float64 7.354e-10 1.707e-09 ...\n",
       "    retrieved__CO2               (level) float64 0.0001306 0.0002248 ...\n",
       "    retrieved_total_column__CO2  float64 8.468e+21\n",
       "    apriori_parameters           (param) float64 0.0 0.0 0.0 0.0 0.0 0.0 0.0 0.0\n",
       "    apriori_temperature          (level) float64 292.7 210.3 212.8 219.1 ...\n",
       "    apriori__NO2                 (level) float64 1.815e-12 1.676e-12 ...\n",
       "    apriori_pressure             (level) float64 9.043e-05 0.0005108 0.00233 ...\n",
       "    retrieved_parameters         (param) float64 0.004009 0.03439 -0.02134 ...\n",
       "    retrieved__NO2               (level) float64 1.807e-12 1.67e-12 ...\n",
       "    spec_fitted_ALL              (iteration, spectrum) float64 0.9853 0.9853 ...\n",
       "    spec_observed                (spectrum) float64 0.9904 0.9822 0.9858 ...\n",
       "    apriori___HO2                (level) float64 1.294e-14 3.006e-13 ...\n",
       "    apriori___HDO                (level) float64 6.48e-08 2.902e-07 ...\n",
       "    apriori___O2CIA              (level) float64 0.0 0.0 0.0 0.0 0.0 0.0 0.0 ...\n",
       "    apriori___CH3I               (level) float64 1.003e-17 1.001e-17 1e-17 ...\n",
       "    apriori___HOCL               (level) float64 1.956e-26 6.199e-23 ...\n",
       "    apriori___airmass            (level) float64 2.487e+18 1.594e+19 ...\n",
       "    apriori___NO                 (level) float64 0.0001344 1.666e-05 ...\n",
       "    apriori___PAN                (level) float64 3.086e-31 4.675e-29 ...\n",
       "    apriori___CH3CHO             (level) float64 0.0 0.0 0.0 0.0 0.0 0.0 0.0 ...\n",
       "    apriori___N2O5               (level) float64 3.549e-23 3.383e-21 ...\n",
       "    apriori___H2S                (level) float64 1.505e-11 1.502e-11 1.5e-11 ...\n",
       "    apriori___CH3CCL3            (level) float64 1.807e-36 1.706e-34 ...\n",
       "    apriori___zbar               (level) float64 113.0 100.2 89.85 81.1 ...\n",
       "    apriori___NF3                (level) float64 0.0 0.0 0.0 0.0 0.0 0.0 0.0 ...\n",
       "    apriori___N2O                (level) float64 1.868e-11 3.28e-11 ...\n",
       "    apriori___C3H6               (level) float64 0.0 0.0 0.0 0.0 0.0 0.0 0.0 ...\n",
       "    apriori___NO2                (level) float64 1.815e-12 1.676e-12 ...\n",
       "    apriori___O2                 (level) float64 0.127 0.1642 0.1957 0.2079 ...\n",
       "    apriori___CH3CL              (level) float64 1.936e-15 4.976e-15 ...\n",
       "    apriori___CFC113             (level) float64 7.288e-23 1.047e-20 ...\n",
       "    apriori___N2                 (level) float64 0.7835 0.7821 0.781 0.781 ...\n",
       "    apriori___CH3BR              (level) float64 1.129e-42 6.272e-41 ...\n",
       "    apriori___temperature        (level) float64 292.7 210.3 212.7 219.1 ...\n",
       "    apriori___CHCL2F             (level) float64 4.784e-13 5.146e-13 ...\n",
       "    apriori___COF2               (level) float64 1.004e-13 1.002e-13 ...\n",
       "    apriori___CLONO2             (level) float64 1.054e-30 7.786e-27 ...\n",
       "    apriori___CO                 (level) float64 2.801e-05 2.231e-05 ...\n",
       "    apriori___HBR                (level) float64 1.297e-22 3.362e-19 ...\n",
       "    apriori___CH3CNPL            (level) float64 0.0 0.0 0.0 0.0 0.0 0.0 0.0 ...\n",
       "    apriori___H2O2               (level) float64 3.071e-17 3.352e-15 ...\n",
       "    apriori___OH                 (level) float64 1.709e-12 3.979e-11 ...\n",
       "    apriori___z                  (level) float64 106.0 94.5 85.2 77.0 69.77 ...\n",
       "    apriori___CCL4               (level) float64 8.778e-40 2.437e-37 ...\n",
       "    apriori___HI                 (level) float64 3.01e-12 3.004e-12 3e-12 ...\n",
       "    apriori___C2H4               (level) float64 9.365e-44 8.999e-44 ...\n",
       "    apriori___C4H8               (level) float64 0.0 0.0 0.0 0.0 0.0 0.0 0.0 ...\n",
       "    apriori___HF                 (level) float64 1.134e-09 1.132e-09 ...\n",
       "    apriori___CCL2F2             (level) float64 1.65e-20 3.707e-19 ...\n",
       "    apriori___F141B              (level) float64 1.453e-12 1.45e-12 ...\n",
       "    apriori___OCS                (level) float64 1.477e-14 1.474e-14 ...\n",
       "    apriori___HCOOH              (level) float64 1.003e-16 1.001e-16 1e-16 ...\n",
       "    apriori___NH3                (level) float64 1.946e-16 1.943e-16 ...\n",
       "    apriori___C5H8               (level) float64 0.0 0.0 0.0 0.0 0.0 0.0 0.0 ...\n",
       "    apriori___C2H6PL             (level) float64 1.003e-14 1.001e-14 1e-14 ...\n",
       "    apriori___pressure           (level) float64 9.043e-05 0.0005108 0.00233 ...\n",
       "    apriori___CH4                (level) float64 7.354e-10 1.707e-09 ...\n",
       "    apriori___H2O                (level) float64 3.795e-08 9.287e-08 ...\n",
       "    apriori___CH3F               (level) float64 5.016e-14 5.007e-14 5e-14 ...\n",
       "    apriori___SF6                (level) float64 4.721e-13 4.713e-13 ...\n",
       "    apriori___CH3CN              (level) float64 0.0 0.0 0.0 0.0 0.0 0.0 0.0 ...\n",
       "    apriori___CCL3F              (level) float64 2.071e-21 2.073e-21 ...\n",
       "    apriori___F134A              (level) float64 1.253e-12 1.251e-12 ...\n",
       "    apriori___F142B              (level) float64 1.396e-12 1.394e-12 ...\n",
       "    apriori___CO2                (level) float64 0.0001195 0.0002057 ...\n",
       "    apriori___H2CO               (level) float64 6.913e-14 9.034e-13 ...\n",
       "    apriori___HCN                (level) float64 1.468e-10 1.444e-10 ...\n",
       "    apriori___HNO3               (level) float64 6.193e-19 1.242e-17 ...\n",
       "    apriori___CF4                (level) float64 3.01e-11 3.004e-11 3e-11 ...\n",
       "    apriori___HONO               (level) float64 1.003e-14 1.001e-14 1e-14 ...\n",
       "    apriori___SO2                (level) float64 3.893e-11 3.885e-11 ...\n",
       "    apriori___OCLO               (level) float64 4.133e-21 2.81e-19 ...\n",
       "    apriori___CH3COOH            (level) float64 0.0 0.0 0.0 0.0 0.0 0.0 0.0 ...\n",
       "    apriori___MACR               (level) float64 0.0 0.0 0.0 0.0 0.0 0.0 0.0 ...\n",
       "    apriori___CH3OH              (level) float64 1.003e-10 1.001e-10 1e-10 ...\n",
       "    apriori___HO2NO2             (level) float64 3.601e-21 1.424e-19 ...\n",
       "    apriori___C2H2               (level) float64 1.013e-17 1.011e-17 ...\n",
       "    apriori___O3                 (level) float64 4.363e-08 9.858e-07 ...\n",
       "    apriori___C2H6               (level) float64 1.405e-18 1.435e-18 ...\n",
       "    apriori___C3H8               (level) float64 4.215e-19 4.305e-19 ...\n",
       "    apriori___CHF2CL             (level) float64 1.307e-12 8.678e-12 ...\n",
       "    apriori___COCL2              (level) float64 1.003e-16 1.001e-16 1e-16 ...\n",
       "    apriori___CLO                (level) float64 4.298e-16 2.184e-14 ...\n",
       "    apriori___COCLF              (level) float64 3.762e-17 3.755e-17 ...\n",
       "    apriori___MVK                (level) float64 0.0 0.0 0.0 0.0 0.0 0.0 0.0 ...\n",
       "    apriori___HCL                (level) float64 8.049e-11 3.949e-10 ...\n",
       "    station_altitude             (level) float64 113.0 100.2 89.85 81.1 ...\n",
       "    station_altitude_lbound      (level_lbound) float64 120.0 106.0 94.5 ...\n",
       "    spec_opd_max                 (band) float64 257.1 257.1 257.1 257.1\n",
       "    spec_snr_initial             (band, scan) float64 150.0 61.44 232.7 232.7\n",
       "    dofs_tpr                     float64 0.0\n",
       "    spec_snr_calculated          (band, scan) float64 151.1 143.9 241.4 198.6\n",
       "    dofs_trg                     float64 1.691\n",
       "    fit_rms                      float64 0.006295\n",
       "    dofs_total                   float64 10.74\n",
       "    chi_square_obs               float64 0.8513\n",
       "    spec_fov                     (band) float64 2.273 2.273 2.273 2.273\n",
       "    reference__C4H8              (rlevel) float64 0.0 0.0 0.0 0.0 0.0 0.0 ...\n",
       "    reference__pressure          (rlevel) float64 3.194e-05 8.541e-05 ...\n",
       "    reference__HNO3              (rlevel) float64 6.583e-20 5.185e-19 ...\n",
       "    reference__F134A             (rlevel) float64 1.249e-12 1.249e-12 ...\n",
       "    reference__OCLO              (rlevel) float64 3.169e-22 2.819e-21 ...\n",
       "    reference__COF2              (rlevel) float64 1.001e-13 1.001e-13 ...\n",
       "    reference__C2H6PL            (rlevel) float64 1e-14 1e-14 1e-14 1e-14 ...\n",
       "    reference__H2S               (rlevel) float64 1.5e-11 1.5e-11 1.5e-11 ...\n",
       "    reference__CH3CHO            (rlevel) float64 0.0 0.0 0.0 0.0 0.0 0.0 ...\n",
       "    reference__altitude          (rlevel) float64 120.0 110.0 100.0 94.0 ...\n",
       "    reference__O3                (rlevel) float64 4.417e-10 3.332e-08 ...\n",
       "    reference__CH3CL             (rlevel) float64 1.136e-15 1.902e-15 ...\n",
       "    reference__CH4               (rlevel) float64 5.735e-10 7.123e-10 ...\n",
       "    reference__HO2               (rlevel) float64 2.458e-15 1.023e-14 ...\n",
       "    reference__PAN               (rlevel) float64 2.532e-33 1.861e-31 ...\n",
       "    reference__HI                (rlevel) float64 3e-12 3e-12 3e-12 3e-12 ...\n",
       "    reference__CH3CN             (rlevel) float64 0.0 0.0 0.0 0.0 0.0 0.0 ...\n",
       "    reference__CH3CCL3           (rlevel) float64 1.945e-38 1.015e-36 ...\n",
       "    reference__HCOOH             (rlevel) float64 1e-16 1e-16 1e-16 1e-16 ...\n",
       "    reference__C3H6              (rlevel) float64 0.0 0.0 0.0 0.0 0.0 0.0 ...\n",
       "    reference__C3H8              (rlevel) float64 4.104e-19 4.209e-19 ...\n",
       "    reference__CF4               (rlevel) float64 3e-11 3e-11 3e-11 3e-11 ...\n",
       "    reference__N2                (rlevel) float64 0.781 0.781 0.781 0.781 ...\n",
       "    reference__CCL4              (rlevel) float64 1.897e-42 3.742e-40 ...\n",
       "    reference__NO2               (rlevel) float64 9.047e-13 2.061e-12 ...\n",
       "    reference__HF                (rlevel) float64 1.13e-09 1.13e-09 1.13e-09 ...\n",
       "    reference__CHF2CL            (rlevel) float64 2.843e-13 1.218e-12 ...\n",
       "    reference__HCL               (rlevel) float64 1.019e-11 8.384e-11 ...\n",
       "    reference__temperature       (rlevel) float64 405.4 279.1 204.5 205.8 ...\n",
       "    reference__C2H4              (rlevel) float64 9.503e-44 9.326e-44 ...\n",
       "    reference__H2O2              (rlevel) float64 3.103e-19 2.11e-17 ...\n",
       "    reference__COCLF             (rlevel) float64 3.75e-17 3.75e-17 3.75e-17 ...\n",
       "    reference__CH3COOH           (rlevel) float64 0.0 0.0 0.0 0.0 0.0 0.0 ...\n",
       "    reference__C5H8              (rlevel) float64 0.0 0.0 0.0 0.0 0.0 0.0 ...\n",
       "    reference__NO                (rlevel) float64 0.0002859 0.000131 ...\n",
       "    reference__O2                (rlevel) float64 0.1079 0.127 0.1586 0.1803 ...\n",
       "    reference__CFC113            (rlevel) float64 1.818e-25 3.836e-23 ...\n",
       "    reference__H2O               (rlevel) float64 1.255e-08 4.182e-08 ...\n",
       "    reference__SF6               (rlevel) float64 4.706e-13 4.706e-13 ...\n",
       "    reference__CO                (rlevel) float64 3.136e-05 2.782e-05 ...\n",
       "    reference__HCN               (rlevel) float64 1.493e-10 1.459e-10 ...\n",
       "    reference__CCL3F             (rlevel) float64 2.061e-21 2.064e-21 ...\n",
       "    reference__C2H6              (rlevel) float64 1.368e-18 1.403e-18 ...\n",
       "    reference__SO2               (rlevel) float64 3.88e-11 3.88e-11 3.88e-11 ...\n",
       "    reference__CHCL2F            (rlevel) float64 4.52e-13 4.79e-13 5.06e-13 ...\n",
       "    reference__HOCL              (rlevel) float64 3.736e-30 5.507e-27 ...\n",
       "    reference__CCL2F2            (rlevel) float64 2.771e-21 1.244e-20 ...\n",
       "    reference__MACR              (rlevel) float64 0.0 0.0 0.0 0.0 0.0 0.0 ...\n",
       "    reference__HONO              (rlevel) float64 1e-14 1e-14 1e-14 1e-14 ...\n",
       "    reference__OCS               (rlevel) float64 1.472e-14 1.472e-14 ...\n",
       "    reference__CH3OH             (rlevel) float64 1e-10 1e-10 1e-10 1e-10 ...\n",
       "    reference__F142B             (rlevel) float64 1.392e-12 1.392e-12 ...\n",
       "    reference__COCL2             (rlevel) float64 1e-16 1e-16 1e-16 1e-16 ...\n",
       "    reference__CLO               (rlevel) float64 2.874e-18 2.871e-16 ...\n",
       "    reference__HBR               (rlevel) float64 1.109e-24 5.625e-23 ...\n",
       "    reference__CH3BR             (rlevel) float64 6.935e-44 7.988e-43 ...\n",
       "    reference__H2CO              (rlevel) float64 2.997e-14 5.842e-14 ...\n",
       "    reference__N2O5              (rlevel) float64 3.254e-25 2.287e-23 ...\n",
       "    reference__NF3               (rlevel) float64 0.0 0.0 0.0 0.0 0.0 0.0 ...\n",
       "    reference__NH3               (rlevel) float64 1.94e-16 1.94e-16 1.94e-16 ...\n",
       "    reference__F141B             (rlevel) float64 1.448e-12 1.448e-12 ...\n",
       "    reference__CO2               (rlevel) float64 8.225e-05 0.0001197 ...\n",
       "    reference__OH                (rlevel) float64 8.941e-13 1.094e-12 ...\n",
       "    reference__CH3F              (rlevel) float64 5e-14 5e-14 5e-14 5e-14 ...\n",
       "    reference__CLONO2            (rlevel) float64 2.954e-35 3.142e-31 ...\n",
       "    reference__CH3I              (rlevel) float64 1e-17 1e-17 1e-17 1e-17 ...\n",
       "    reference__HO2NO2            (rlevel) float64 1.495e-22 2.743e-21 ...\n",
       "    reference__C2H2              (rlevel) float64 1.01e-17 1.01e-17 1.01e-17 ...\n",
       "    reference__MVK               (rlevel) float64 0.0 0.0 0.0 0.0 0.0 0.0 ...\n",
       "    reference__N2O               (rlevel) float64 1.348e-11 1.863e-11 ...\n",
       "    averaging_kernels            (kernel, level) float64 0.0 0.0 0.0 ...\n",
       "    cov_matrix_initial           (statevector, statevector) float64 0.01 0.0 ...\n",
       "    kb_vectors                   (diag, mparam) float64 -1.035 0.0 0.0 0.0 ...\n",
       "    spec_in_snr_initial          (band_in, scan_in) float64 150.0 61.44 ...\n",
       "    spec_in_longitude            (scan_in) float64 291.3\n",
       "    spec_in_earth_radius         (scan_in) float64 6.396e+03\n",
       "    spec_in_observed             (spectrum_in) float64 0.7477 0.7429 0.7496 ...\n",
       "    spec_in_datetime             (scan_in) datetime64[ns] 2003-03-07T17:52:10\n",
       "    spec_in_sza                  (scan_in) float64 82.3\n",
       "    spec_in_latitude             (scan_in) float64 76.53\n",
       "    k_matrix                     (diag, statevector) float64 -0.913 0.0 0.0 ...\n",
       "Attributes:\n",
       "    source: /home/bovy/sfit4/sfit4_v0.9.4.4/test_cases_NDACC/x.ch4\n",
       "    is_temp: False\n",
       "    has_division_warnings: False\n",
       "    spec_header__scan1: 03/07/2003 17:52:14UT Z:82.301 A:016.61 D:0101.7 R:0.0035 P:BX F:02.2727mr\n",
       "    n_iterations_max: 30\n",
       "    description: data from a single sfit4 run\n",
       "    sfit4_runtime: 2014-06-02 15:54:48\n",
       "    n_iterations: 3\n",
       "    has_converged: True\n",
       "    n_iteration: 3\n",
       "    n_retrieved_gas__band1: 3\n",
       "    n_retrieved_gas__band4: 2\n",
       "    n_retrieved_gas__band3: 1\n",
       "    sfit4_version: 0.9.4.3\n",
       "    n_retrieved_gas__band2: 3\n",
       "    n_iteration_max: 30"
      ]
     },
     "execution_count": 9,
     "metadata": {},
     "output_type": "execute_result"
    }
   ],
   "source": [
    "ds = load_sfit4_rundir(os.curdir)\n",
    "ds"
   ]
  },
  {
   "cell_type": "code",
   "execution_count": 10,
   "metadata": {
    "collapsed": false
   },
   "outputs": [],
   "source": [
    "def convert_bool_attrs(dataset):\n",
    "    bool2str = lambda v: 'T' if v is True else 'F' if v is False else v\n",
    "    for var in dataset.variables.values():\n",
    "        for k, v in var.attrs.items():\n",
    "            var.attrs[k] = bool2str(v)\n",
    "    for k, v in ds.attrs.items():\n",
    "        ds.attrs[k] = bool2str(v)\n",
    "\n",
    "convert_bool_attrs(ds)\n",
    "encoding = {k: {'zlib': True} for k in ds.variables.keys()}\n",
    "#encoding = {}\n",
    "\n",
    "ds.to_netcdf('test.nc', encoding=encoding)"
   ]
  },
  {
   "cell_type": "code",
   "execution_count": 11,
   "metadata": {
    "collapsed": false
   },
   "outputs": [
    {
     "name": "stdout",
     "output_type": "stream",
     "text": [
      "1.8M\ttest.nc\r\n"
     ]
    }
   ],
   "source": [
    "!du -sh test.nc"
   ]
  },
  {
   "cell_type": "code",
   "execution_count": null,
   "metadata": {
    "collapsed": true
   },
   "outputs": [],
   "source": []
  }
 ],
 "metadata": {
  "kernelspec": {
   "display_name": "Python [pyspectro_py34]",
   "language": "python",
   "name": "Python [pyspectro_py34]"
  },
  "language_info": {
   "codemirror_mode": {
    "name": "ipython",
    "version": 3
   },
   "file_extension": ".py",
   "mimetype": "text/x-python",
   "name": "python",
   "nbconvert_exporter": "python",
   "pygments_lexer": "ipython3",
   "version": "3.4.4"
  }
 },
 "nbformat": 4,
 "nbformat_minor": 0
}
