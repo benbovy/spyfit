{
 "cells": [
  {
   "cell_type": "code",
   "execution_count": 1,
   "metadata": {
    "collapsed": false
   },
   "outputs": [],
   "source": [
    "import os\n",
    "\n",
    "import xarray as xr\n",
    "import pandas as pd\n",
    "import numpy as np\n",
    "\n",
    "import spyfit.io._sfit4in as io"
   ]
  },
  {
   "cell_type": "code",
   "execution_count": 2,
   "metadata": {
    "collapsed": true
   },
   "outputs": [],
   "source": [
    "pjoin = os.path.join"
   ]
  },
  {
   "cell_type": "code",
   "execution_count": 3,
   "metadata": {
    "collapsed": true
   },
   "outputs": [],
   "source": [
    "rundir = \"/home/bovy/sfit4/sfit4_v0.9.4.4/test_cases_NDACC/x.co/\""
   ]
  },
  {
   "cell_type": "code",
   "execution_count": 4,
   "metadata": {
    "collapsed": false
   },
   "outputs": [
    {
     "data": {
      "text/plain": [
       "<xarray.Dataset>\n",
       "Dimensions:                  (level: 43, level_lbound: 44)\n",
       "Coordinates:\n",
       "  * level                    (level) int64 0 1 2 3 4 5 6 7 8 9 10 11 12 13 ...\n",
       "  * level_lbound             (level_lbound) int64 0 1 2 3 4 5 6 7 8 9 10 11 ...\n",
       "Data variables:\n",
       "    station_altitude         (level) float64 95.0 85.0 77.2 70.9 64.4 58.9 ...\n",
       "    station_altitude_lbound  (level_lbound) float64 100.0 90.0 80.0 74.4 ...\n",
       "Attributes:\n",
       "    source: /home/bovy/sfit4/sfit4_v0.9.4.4/test_cases_NDACC/x.co/station.layers"
      ]
     },
     "execution_count": 4,
     "metadata": {},
     "output_type": "execute_result"
    }
   ],
   "source": [
    "xr.Dataset(**io.read_layers(pjoin(rundir, \"station.layers\")))"
   ]
  },
  {
   "cell_type": "code",
   "execution_count": 5,
   "metadata": {
    "collapsed": false
   },
   "outputs": [
    {
     "data": {
      "text/plain": [
       "<xarray.Dataset>\n",
       "Dimensions:                 (rlevel: 41)\n",
       "Coordinates:\n",
       "  * rlevel                  (rlevel) int64 0 1 2 3 4 5 6 7 8 9 10 11 12 13 ...\n",
       "Data variables:\n",
       "    reference__HONO         (rlevel) float64 3.16e-15 1e-14 1e-14 1e-14 ...\n",
       "    reference__OH           (rlevel) float64 2.71e-11 9.13e-11 2.06e-10 ...\n",
       "    reference__O3676        (rlevel) float64 9e-08 4.6e-07 7e-07 5e-07 3e-07 ...\n",
       "    reference__O2           (rlevel) float64 0.158 0.18 0.195 0.205 0.209 ...\n",
       "    reference__CLO          (rlevel) float64 1.5e-14 5.33e-14 1.09e-13 ...\n",
       "    reference__CH3F         (rlevel) float64 5e-14 5e-14 5e-14 5e-14 5e-14 ...\n",
       "    reference__HOCL         (rlevel) float64 6.96e-24 4.66e-22 1.53e-19 ...\n",
       "    reference__CH3D         (rlevel) float64 2.15e-08 2.82e-08 3.36e-08 ...\n",
       "    reference__HCN          (rlevel) float64 1.5e-10 1.5e-10 1.5e-10 1.5e-10 ...\n",
       "    reference__HI           (rlevel) float64 3e-12 3e-12 3e-12 3e-12 3e-12 ...\n",
       "    reference__O3           (rlevel) float64 1.04e-06 1.68e-06 1.58e-06 ...\n",
       "    reference__HCL          (rlevel) float64 3.27e-10 5.97e-10 9.75e-10 ...\n",
       "    reference__O3667        (rlevel) float64 9e-08 4.6e-07 7e-07 5e-07 3e-07 ...\n",
       "    reference__CH3I         (rlevel) float64 0.0 0.0 0.0 0.0 0.0 0.0 0.0 0.0 ...\n",
       "    reference__HBR          (rlevel) float64 1.35e-20 2.51e-18 3.99e-16 ...\n",
       "    reference__CO2          (rlevel) float64 0.00019 0.000246 0.000285 ...\n",
       "    reference__OCS          (rlevel) float64 1e-14 1e-14 1e-14 1e-14 1e-14 ...\n",
       "    reference__H218O        (rlevel) float64 4e-07 6.02e-07 8.5e-07 1.33e-06 ...\n",
       "    reference__CCL3F        (rlevel) float64 0.0 0.0 0.0 0.0 0.0 0.0 0.0 0.0 ...\n",
       "    reference__CH3CCL3      (rlevel) float64 6.04e-35 5.56e-34 2.4e-33 ...\n",
       "    reference__CO           (rlevel) float64 2.34e-05 1.98e-05 1.64e-05 ...\n",
       "    reference__F141B        (rlevel) float64 1.45e-12 1.49e-12 1.51e-12 ...\n",
       "    reference__CH3BR        (rlevel) float64 1.97e-41 2.6e-40 1.4e-39 ...\n",
       "    reference__CCL4         (rlevel) float64 5.38e-38 1.07e-36 5.6e-36 ...\n",
       "    reference__SF6          (rlevel) float64 0.0 0.0 0.0 0.0 0.0 0.0 0.0 0.0 ...\n",
       "    reference__NO           (rlevel) float64 2.16e-05 3.57e-06 9.3e-07 ...\n",
       "    reference__pressure     (rlevel) float64 0.0002758 0.0006169 0.001437 ...\n",
       "    reference__COF2         (rlevel) float64 1e-10 1e-10 1e-10 1e-10 1e-10 ...\n",
       "    reference__C2H2         (rlevel) float64 1e-14 1e-14 1e-14 1e-14 1e-14 ...\n",
       "    reference__C2H4         (rlevel) float64 1e-15 1e-15 1e-15 1e-15 1e-15 ...\n",
       "    reference__C2H6         (rlevel) float64 1e-14 1e-14 1e-14 1e-14 1e-14 ...\n",
       "    reference__N2O5         (rlevel) float64 2.35e-21 3.19e-20 2.41e-19 ...\n",
       "    reference__C3H8         (rlevel) float64 3e-15 3e-15 3e-15 3e-15 3e-15 ...\n",
       "    reference__CH3OH        (rlevel) float64 0.0 0.0 0.0 0.0 0.0 0.0 0.0 0.0 ...\n",
       "    reference__CF4          (rlevel) float64 3e-11 3e-11 3e-11 3e-11 3e-11 ...\n",
       "    reference__CH3CL        (rlevel) float64 4.04e-15 7.3e-15 1.22e-14 ...\n",
       "    reference__F142B        (rlevel) float64 1.39e-12 1.43e-12 1.45e-12 ...\n",
       "    reference__CHCL2F       (rlevel) float64 0.0 0.0 0.0 0.0 0.0 0.0 0.0 0.0 ...\n",
       "    reference__temperature  (rlevel) float64 215.1 199.3 191.1 194.4 197.6 ...\n",
       "    reference__NH3          (rlevel) float64 1e-14 1e-14 1e-14 1e-14 1e-14 ...\n",
       "    reference__HO2NO2       (rlevel) float64 9.58e-20 7.32e-19 4.63e-18 ...\n",
       "    reference__N2           (rlevel) float64 0.777 0.78 0.781 0.781 0.781 ...\n",
       "    reference__HDO          (rlevel) float64 4e-07 6.02e-07 8.5e-07 1.33e-06 ...\n",
       "    reference__HNO3         (rlevel) float64 2.7e-14 2.73e-14 2.84e-14 ...\n",
       "    reference__O3686        (rlevel) float64 9e-08 4.6e-07 7e-07 5e-07 3e-07 ...\n",
       "    reference__CH4          (rlevel) float64 1.22e-09 2.89e-09 7.3e-09 ...\n",
       "    reference__O3668        (rlevel) float64 9e-08 4.6e-07 7e-07 5e-07 3e-07 ...\n",
       "    reference__altitude     (rlevel) float64 100.0 95.0 90.0 85.0 80.0 75.0 ...\n",
       "    reference__HCOOH        (rlevel) float64 0.0 0.0 0.0 0.0 0.0 0.0 0.0 0.0 ...\n",
       "    reference__H2S          (rlevel) float64 0.0 0.0 0.0 0.0 0.0 0.0 0.0 0.0 ...\n",
       "    reference__SO2          (rlevel) float64 3.58e-13 1.16e-12 2.24e-12 ...\n",
       "    reference__COCL2        (rlevel) float64 1e-16 1e-16 1e-16 1e-16 1e-16 ...\n",
       "    reference__H2CO         (rlevel) float64 1e-14 1.36e-14 2.62e-14 ...\n",
       "    reference__H2O2         (rlevel) float64 1.39e-15 2.08e-14 2.91e-13 ...\n",
       "    reference__CLONO2       (rlevel) float64 3.5e-27 3.1e-24 1.86e-21 ...\n",
       "    reference__NO2          (rlevel) float64 2.18e-12 1.06e-12 5.77e-13 ...\n",
       "    reference__OCLO         (rlevel) float64 1e-12 1e-12 1e-12 1e-12 1e-12 ...\n",
       "    reference__F134A        (rlevel) float64 1.25e-12 1.29e-12 1.3e-12 ...\n",
       "    reference__CFC113       (rlevel) float64 1.08e-11 1.11e-11 1.13e-11 ...\n",
       "    reference__HO2          (rlevel) float64 1.33e-13 8.45e-13 4.92e-12 ...\n",
       "    reference__N2O          (rlevel) float64 2.89e-11 4.2e-11 5.99e-11 ...\n",
       "    reference__COCLF        (rlevel) float64 0.0 0.0 0.0 0.0 0.0 0.0 1e-16 ...\n",
       "    reference__CCL2F2       (rlevel) float64 1e-14 1e-14 1e-14 1e-14 1e-14 ...\n",
       "    reference__H217O        (rlevel) float64 4e-07 6.02e-07 8.5e-07 1.33e-06 ...\n",
       "    reference__H2O          (rlevel) float64 8.12e-08 1.67e-07 3.67e-07 ...\n",
       "    reference__HF           (rlevel) float64 7.34e-10 7.34e-10 7.34e-10 ...\n",
       "    reference__CHF2CL       (rlevel) float64 0.0 0.0 0.0 0.0 0.0 0.0 0.0 0.0 ...\n",
       "Attributes:\n",
       "    source: /home/bovy/sfit4/sfit4_v0.9.4.4/test_cases_NDACC/x.co/reference.prf"
      ]
     },
     "execution_count": 5,
     "metadata": {},
     "output_type": "execute_result"
    }
   ],
   "source": [
    "xr.Dataset(**io.read_ref_profiles(pjoin(rundir, \"reference.prf\")))"
   ]
  },
  {
   "cell_type": "code",
   "execution_count": 6,
   "metadata": {
    "collapsed": false
   },
   "outputs": [
    {
     "data": {
      "text/plain": [
       "<xarray.Dataset>\n",
       "Dimensions:            (band: 3, scan: 1, spectrum: 928)\n",
       "Coordinates:\n",
       "    spec_scan          (spectrum) int64 1 1 1 1 1 1 1 1 1 1 1 1 1 1 1 1 1 1 ...\n",
       "  * scan               (scan) int64 1\n",
       "    spec_wn            (spectrum) float64 2.058e+03 2.058e+03 2.058e+03 ...\n",
       "  * band               (band) int64 1 2 3\n",
       "    spec_band          (spectrum) int64 1 1 1 1 1 1 1 1 1 1 1 1 1 1 1 1 1 1 ...\n",
       "  * spectrum           (spectrum) int64 0 1 2 3 4 5 6 7 8 9 10 11 12 13 14 ...\n",
       "Data variables:\n",
       "    spec_datetime      (scan) datetime64[ns] 2011-03-25T09:52:32\n",
       "    spec_sza           (scan) float64 77.96\n",
       "    spec_latitude      (scan) float64 78.92\n",
       "    spec_observed      (spectrum) float64 4.568 4.88 5.01 4.995 5.011 4.948 ...\n",
       "    spec_longitude     (scan) float64 11.92\n",
       "    spec_snr_initial   (band, scan) float64 184.5 191.3 153.3\n",
       "    spec_earth_radius  (scan) float64 6.358e+03\n",
       "Attributes:\n",
       "    source: /home/bovy/sfit4/sfit4_v0.9.4.4/test_cases_NDACC/x.co/spectrum"
      ]
     },
     "execution_count": 6,
     "metadata": {},
     "output_type": "execute_result"
    }
   ],
   "source": [
    "xr.Dataset(**io.read_spectrum(pjoin(rundir, \"spectrum\")))"
   ]
  },
  {
   "cell_type": "code",
   "execution_count": 7,
   "metadata": {
    "collapsed": true
   },
   "outputs": [],
   "source": [
    "# test sigma profile values given in the same line \n",
    "#rundir = \"/home/bovy/sfit4/sfit4_v0.9.4.4/test_cases_NDACC/x.hf/\""
   ]
  },
  {
   "cell_type": "code",
   "execution_count": 8,
   "metadata": {
    "collapsed": false,
    "scrolled": false
   },
   "outputs": [
    {
     "data": {
      "text/plain": [
       "<xarray.Dataset>\n",
       "Dimensions:                   (level: 43)\n",
       "Coordinates:\n",
       "  * level                     (level) int64 0 1 2 3 4 5 6 7 8 9 10 11 12 13 ...\n",
       "Data variables:\n",
       "    gas__profile__CO__sigma   (level) float64 0.1268 0.1134 0.1225 0.1342 ...\n",
       "    gas__profile__O3__sigma   (level) float64 0.1268 0.1134 0.1225 0.1342 ...\n",
       "    gas__profile__H2O__sigma  (level) float64 1.0 1.0 1.0 1.0 1.0 1.0 1.0 ...\n",
       "    gas__profile__N2O__sigma  (level) float64 1.0 1.0 1.0 1.0 1.0 1.0 1.0 ...\n",
       "    sfit4_ctl                 float64 nan\n",
       "Attributes:\n",
       "    source: /home/bovy/sfit4/sfit4_v0.9.4.4/test_cases_NDACC/x.co/sfit4.ctl"
      ]
     },
     "execution_count": 8,
     "metadata": {},
     "output_type": "execute_result"
    }
   ],
   "source": [
    "xr.Dataset(**io.read_ctl(pjoin(rundir, \"sfit4.ctl\")))"
   ]
  },
  {
   "cell_type": "code",
   "execution_count": 9,
   "metadata": {
    "collapsed": true
   },
   "outputs": [],
   "source": [
    "ds1 = xr.Dataset(**io.read_layers(pjoin(rundir, \"station.layers\")))\n",
    "ds2 = xr.Dataset(**io.read_ctl(pjoin(rundir, \"sfit4.ctl\")))"
   ]
  },
  {
   "cell_type": "code",
   "execution_count": 10,
   "metadata": {
    "collapsed": false
   },
   "outputs": [
    {
     "data": {
      "text/plain": [
       "<xarray.Dataset>\n",
       "Dimensions:                   (level: 43, level_lbound: 44)\n",
       "Coordinates:\n",
       "  * level                     (level) int64 0 1 2 3 4 5 6 7 8 9 10 11 12 13 ...\n",
       "  * level_lbound              (level_lbound) int64 0 1 2 3 4 5 6 7 8 9 10 11 ...\n",
       "Data variables:\n",
       "    station_altitude          (level) float64 95.0 85.0 77.2 70.9 64.4 58.9 ...\n",
       "    station_altitude_lbound   (level_lbound) float64 100.0 90.0 80.0 74.4 ...\n",
       "    gas__profile__CO__sigma   (level) float64 0.1268 0.1134 0.1225 0.1342 ...\n",
       "    gas__profile__O3__sigma   (level) float64 0.1268 0.1134 0.1225 0.1342 ...\n",
       "    gas__profile__H2O__sigma  (level) float64 1.0 1.0 1.0 1.0 1.0 1.0 1.0 ...\n",
       "    gas__profile__N2O__sigma  (level) float64 1.0 1.0 1.0 1.0 1.0 1.0 1.0 ...\n",
       "    sfit4_ctl                 float64 nan\n",
       "Attributes:\n",
       "    source: /home/bovy/sfit4/sfit4_v0.9.4.4/test_cases_NDACC/x.co/station.layers"
      ]
     },
     "execution_count": 10,
     "metadata": {},
     "output_type": "execute_result"
    }
   ],
   "source": [
    "ds1.merge(ds2, compat='identical')"
   ]
  },
  {
   "cell_type": "code",
   "execution_count": null,
   "metadata": {
    "collapsed": true
   },
   "outputs": [],
   "source": []
  }
 ],
 "metadata": {
  "kernelspec": {
   "display_name": "Python [pyspectro_py34]",
   "language": "python",
   "name": "Python [pyspectro_py34]"
  },
  "language_info": {
   "codemirror_mode": {
    "name": "ipython",
    "version": 3
   },
   "file_extension": ".py",
   "mimetype": "text/x-python",
   "name": "python",
   "nbconvert_exporter": "python",
   "pygments_lexer": "ipython3",
   "version": "3.4.4"
  }
 },
 "nbformat": 4,
 "nbformat_minor": 0
}
