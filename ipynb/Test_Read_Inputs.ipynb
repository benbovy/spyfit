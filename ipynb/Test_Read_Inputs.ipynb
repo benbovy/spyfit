{
 "cells": [
  {
   "cell_type": "code",
   "execution_count": 2,
   "metadata": {
    "collapsed": false
   },
   "outputs": [],
   "source": [
    "import os\n",
    "\n",
    "from sfit4py import io"
   ]
  },
  {
   "cell_type": "code",
   "execution_count": 3,
   "metadata": {
    "collapsed": true
   },
   "outputs": [],
   "source": [
    "pjoin = os.path.join"
   ]
  },
  {
   "cell_type": "code",
   "execution_count": 4,
   "metadata": {
    "collapsed": true
   },
   "outputs": [],
   "source": [
    "rundir = \"/home/bovy/sfit4/sfit4_v0.9.4.4/test_cases_NDACC/x.co/\""
   ]
  },
  {
   "cell_type": "code",
   "execution_count": 5,
   "metadata": {
    "collapsed": false
   },
   "outputs": [
    {
     "data": {
      "text/plain": [
       "{'altitude': array([ 95.    ,  85.    ,  77.2   ,  70.9   ,  64.4   ,  58.9   ,\n",
       "         54.4   ,  50.65  ,  47.4   ,  44.65  ,  42.25  ,  40.05  ,\n",
       "         38.05  ,  36.25  ,  34.65  ,  33.25  ,  32.    ,  30.8   ,\n",
       "         29.6   ,  28.4   ,  27.2   ,  26.    ,  24.8   ,  23.6   ,\n",
       "         22.4   ,  21.2   ,  20.    ,  18.8   ,  17.6   ,  16.4   ,\n",
       "         15.2   ,  14.    ,  12.8   ,  11.6   ,  10.4   ,   9.2   ,\n",
       "          8.    ,   6.8   ,   5.6   ,   4.4   ,   3.2   ,   2.    ,   0.7105]),\n",
       " 'altitude_lbound': array([  1.00000000e+02,   9.00000000e+01,   8.00000000e+01,\n",
       "          7.44000000e+01,   6.74000000e+01,   6.14000000e+01,\n",
       "          5.64000000e+01,   5.24000000e+01,   4.89000000e+01,\n",
       "          4.59000000e+01,   4.34000000e+01,   4.11000000e+01,\n",
       "          3.90000000e+01,   3.71000000e+01,   3.54000000e+01,\n",
       "          3.39000000e+01,   3.26000000e+01,   3.14000000e+01,\n",
       "          3.02000000e+01,   2.90000000e+01,   2.78000000e+01,\n",
       "          2.66000000e+01,   2.54000000e+01,   2.42000000e+01,\n",
       "          2.30000000e+01,   2.18000000e+01,   2.06000000e+01,\n",
       "          1.94000000e+01,   1.82000000e+01,   1.70000000e+01,\n",
       "          1.58000000e+01,   1.46000000e+01,   1.34000000e+01,\n",
       "          1.22000000e+01,   1.10000000e+01,   9.80000000e+00,\n",
       "          8.60000000e+00,   7.40000000e+00,   6.20000000e+00,\n",
       "          5.00000000e+00,   3.80000000e+00,   2.60000000e+00,\n",
       "          1.40000000e+00,   2.10000000e-02]),\n",
       " 'header': 'Create by create_station_layers from /home/christof_p/sfit4_setup/ny/x.co/bnd.layers.ny',\n",
       " 'index': array([ 1,  2,  3,  4,  5,  6,  7,  8,  9, 10, 11, 12, 13, 14, 15, 16, 17,\n",
       "        18, 19, 20, 21, 22, 23, 24, 25, 26, 27, 28, 29, 30, 31, 32, 33, 34,\n",
       "        35, 36, 37, 38, 39, 40, 41, 42, 43], dtype=int32)}"
      ]
     },
     "execution_count": 5,
     "metadata": {},
     "output_type": "execute_result"
    }
   ],
   "source": [
    "io.read_layers(pjoin(rundir, \"station.layers\"))"
   ]
  },
  {
   "cell_type": "code",
   "execution_count": null,
   "metadata": {
    "collapsed": true
   },
   "outputs": [],
   "source": []
  }
 ],
 "metadata": {
  "kernelspec": {
   "display_name": "PySpectro (py34)",
   "language": "python",
   "name": "pyspectro_py34"
  },
  "language_info": {
   "codemirror_mode": {
    "name": "ipython",
    "version": 3
   },
   "file_extension": ".py",
   "mimetype": "text/x-python",
   "name": "python",
   "nbconvert_exporter": "python",
   "pygments_lexer": "ipython3",
   "version": "3.4.3"
  }
 },
 "nbformat": 4,
 "nbformat_minor": 0
}
