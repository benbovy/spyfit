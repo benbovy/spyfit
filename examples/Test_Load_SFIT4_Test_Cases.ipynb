{
 "cells": [
  {
   "cell_type": "markdown",
   "metadata": {},
   "source": [
    "# Test loading sfit4 test cases folders\n",
    "\n",
    "It just tests if spyfit loads the data without raising error."
   ]
  },
  {
   "cell_type": "code",
   "execution_count": 1,
   "metadata": {
    "collapsed": false
   },
   "outputs": [],
   "source": [
    "import os\n",
    "\n",
    "import numpy as np\n",
    "import pandas as pd\n",
    "import xarray as xr\n",
    "import spyfit as spy"
   ]
  },
  {
   "cell_type": "code",
   "execution_count": 2,
   "metadata": {
    "collapsed": false
   },
   "outputs": [
    {
     "name": "stdout",
     "output_type": "stream",
     "text": [
      "/home/bovy/sfit4/sfit4_v0.9.4.4\n"
     ]
    }
   ],
   "source": [
    "%cd \"/home/bovy/sfit4/sfit4_v0.9.4.4/\""
   ]
  },
  {
   "cell_type": "code",
   "execution_count": 3,
   "metadata": {
    "collapsed": false
   },
   "outputs": [
    {
     "data": {
      "text/plain": [
       "['test_cases_NDACC/x.ch4',\n",
       " 'test_cases_NDACC/x.co',\n",
       " 'test_cases_NDACC/x.hf',\n",
       " 'test_cases_NDACC/x.ch4_test_rodgers',\n",
       " 'test_cases_NDACC/x.hcl',\n",
       " 'test_cases_NDACC/x.ccl4',\n",
       " 'test_cases_features/x.o2.wlg',\n",
       " 'test_cases_features/x.co2.tccon',\n",
       " 'test_cases_features/hcl.multi.0.9.4.1']"
      ]
     },
     "execution_count": 3,
     "metadata": {},
     "output_type": "execute_result"
    }
   ],
   "source": [
    "rootdirs = ['test_cases_NDACC', 'test_cases_features']\n",
    "rundirs = [os.path.join(r, d)\n",
    "           for r in rootdirs for d in os.listdir(r)\n",
    "           if os.path.isdir(os.path.join(r, d))]\n",
    "rundirs"
   ]
  },
  {
   "cell_type": "code",
   "execution_count": 4,
   "metadata": {
    "collapsed": false
   },
   "outputs": [
    {
     "name": "stdout",
     "output_type": "stream",
     "text": [
      "test_cases_NDACC/x.ch4\n",
      "---> OK\n",
      "test_cases_NDACC/x.co\n",
      "---> OK\n",
      "test_cases_NDACC/x.hf\n",
      "---> OK\n",
      "test_cases_NDACC/x.ch4_test_rodgers\n",
      "---> OK\n",
      "test_cases_NDACC/x.hcl\n",
      "---> OK\n",
      "test_cases_NDACC/x.ccl4\n",
      "---> OK\n",
      "test_cases_features/x.o2.wlg\n",
      "---> OK\n",
      "test_cases_features/x.co2.tccon\n",
      "---> OK\n",
      "test_cases_features/hcl.multi.0.9.4.1\n",
      "---> FAILED!!!\n",
      "     error: no single spectrum file found in /home/bovy/sfit4/sfit4_v0.9.4.4/test_cases_features/hcl.multi.0.9.4.1/spc.*\n"
     ]
    },
    {
     "name": "stderr",
     "output_type": "stream",
     "text": [
      "/home/bovy/GitRepos/spyfit/spyfit/io/_sfit4out.py:689: UserWarning: expected output spectrum for gas CH4, scan 1, band 3 & iteration -1 but no file found\n",
      "  \"no file found\".format(g, s, b, i))\n",
      "/home/bovy/GitRepos/spyfit/spyfit/io/_sfit4out.py:689: UserWarning: expected output spectrum for gas CO2, scan 1, band 3 & iteration -1 but no file found\n",
      "  \"no file found\".format(g, s, b, i))\n",
      "/home/bovy/GitRepos/spyfit/spyfit/io/_sfit4out.py:689: UserWarning: expected output spectrum for gas HDO, scan 1, band 3 & iteration -1 but no file found\n",
      "  \"no file found\".format(g, s, b, i))\n",
      "/home/bovy/GitRepos/spyfit/spyfit/io/_sfit4out.py:689: UserWarning: expected output spectrum for gas O2, scan 1, band 1 & iteration -1 but no file found\n",
      "  \"no file found\".format(g, s, b, i))\n",
      "/home/bovy/GitRepos/spyfit/spyfit/io/_sfit4out.py:689: UserWarning: expected output spectrum for gas O2, scan 1, band 2 & iteration -1 but no file found\n",
      "  \"no file found\".format(g, s, b, i))\n",
      "/home/bovy/GitRepos/spyfit/spyfit/io/_sfit4out.py:689: UserWarning: expected output spectrum for gas O2CIA, scan 1, band 1 & iteration -1 but no file found\n",
      "  \"no file found\".format(g, s, b, i))\n",
      "/home/bovy/GitRepos/spyfit/spyfit/io/_sfit4out.py:689: UserWarning: expected output spectrum for gas O2CIA, scan 1, band 2 & iteration -1 but no file found\n",
      "  \"no file found\".format(g, s, b, i))\n"
     ]
    }
   ],
   "source": [
    "for d in rundirs:\n",
    "    try:\n",
    "        print(d)\n",
    "        ds = spy.load_dataset(d, fmt='sfit4_rundir')\n",
    "        print('---> OK')\n",
    "    except Exception as e:\n",
    "        print('---> FAILED!!!')\n",
    "        print('     error: {}'.format(e))"
   ]
  },
  {
   "cell_type": "code",
   "execution_count": null,
   "metadata": {
    "collapsed": true
   },
   "outputs": [],
   "source": []
  }
 ],
 "metadata": {
  "kernelspec": {
   "display_name": "Python [pyspectro_py34]",
   "language": "python",
   "name": "Python [pyspectro_py34]"
  },
  "language_info": {
   "codemirror_mode": {
    "name": "ipython",
    "version": 3
   },
   "file_extension": ".py",
   "mimetype": "text/x-python",
   "name": "python",
   "nbconvert_exporter": "python",
   "pygments_lexer": "ipython3",
   "version": "3.4.4"
  }
 },
 "nbformat": 4,
 "nbformat_minor": 0
}
